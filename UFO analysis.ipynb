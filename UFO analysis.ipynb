{
 "cells": [
  {
   "cell_type": "code",
   "execution_count": 75,
   "metadata": {
    "collapsed": false
   },
   "outputs": [
    {
     "data": {
      "text/plain": [
       "0       2065-01-01 17:00:00\n",
       "1       2065-01-01 20:00:00\n",
       "2       2065-01-01 20:00:00\n",
       "3       2065-02-02 06:00:00\n",
       "4       2065-02-15 17:00:00\n",
       "5       2065-02-16 21:00:00\n",
       "6       2065-03-15 14:00:00\n",
       "7       2065-03-15 17:00:00\n",
       "8       2065-04-01 15:30:00\n",
       "9       2065-04-01 22:30:00\n",
       "10      2065-04-14 23:00:00\n",
       "11      2065-04-20 19:00:00\n",
       "12      2065-04-28 00:00:00\n",
       "13      2065-05-01 13:00:00\n",
       "14      2065-05-01 15:30:00\n",
       "15      2065-05-01 16:30:00\n",
       "16      2065-05-05 05:35:00\n",
       "17      2065-05-12 21:00:00\n",
       "18      2065-05-15 07:30:00\n",
       "19      2065-05-15 14:00:00\n",
       "20      2065-05-15 15:00:00\n",
       "21      2065-05-31 13:00:00\n",
       "22      2065-06-01 00:00:00\n",
       "23      2065-06-01 01:00:00\n",
       "24      2065-06-01 05:00:00\n",
       "25      2065-06-01 09:00:00\n",
       "26      2065-06-01 11:00:00\n",
       "27      2065-06-01 12:00:00\n",
       "28      2065-06-01 13:00:00\n",
       "29      2065-06-01 13:00:00\n",
       "                ...        \n",
       "69407   2014-05-05 20:09:00\n",
       "69408   2014-05-05 20:30:00\n",
       "69409   2014-05-05 22:30:00\n",
       "69410   2014-05-05 22:45:00\n",
       "69411   2014-05-05 23:04:00\n",
       "69412   2014-05-05 23:16:00\n",
       "69413   2014-05-05 23:45:00\n",
       "69414   2014-05-06 01:00:00\n",
       "69415   2014-05-06 03:58:00\n",
       "69416   2014-05-06 20:08:00\n",
       "69417   2014-05-06 20:35:00\n",
       "69418   2014-05-06 21:00:00\n",
       "69419   2014-05-06 21:30:00\n",
       "69420   2014-05-06 22:15:00\n",
       "69421   2014-05-06 22:30:00\n",
       "69422   2014-05-06 23:00:00\n",
       "69423   2014-05-06 23:00:00\n",
       "69424   2014-05-07 00:00:00\n",
       "69425   2014-05-07 03:30:00\n",
       "69426   2014-05-07 09:30:00\n",
       "69427   2014-05-07 15:00:00\n",
       "69428   2014-05-07 17:30:00\n",
       "69429   2014-05-07 18:25:00\n",
       "69430   2014-05-07 20:30:00\n",
       "69431   2014-05-07 20:30:00\n",
       "69432   2014-05-07 21:00:00\n",
       "69433   2014-05-07 21:10:00\n",
       "69434   2014-05-07 21:20:00\n",
       "69435   2014-05-07 23:30:00\n",
       "69436   2014-05-08 00:00:00\n",
       "Name: date_seen, dtype: datetime64[ns]"
      ]
     },
     "execution_count": 75,
     "metadata": {},
     "output_type": "execute_result"
    }
   ],
   "source": [
    "import pandas as pd\n",
    "import numpy as np\n",
    "import os\n",
    "import matplotlib.pyplot as plt\n",
    "from datetime import datetime\n",
    "ufo = pd.read_csv(\"ufos_complete.csv\")\n",
    "ufo\n",
    "date_seen = ufo[\"date_seen\"]\n",
    "date_seen = pd.to_datetime(date_seen)"
   ]
  },
  {
   "cell_type": "code",
   "execution_count": 102,
   "metadata": {
    "collapsed": false
   },
   "outputs": [
    {
     "data": {
      "text/plain": [
       "7     8158\n",
       "8     7295\n",
       "6     6710\n",
       "10    6637\n",
       "9     6623\n",
       "11    6045\n",
       "12    4958\n",
       "1     4910\n",
       "4     4765\n",
       "3     4743\n",
       "5     4511\n",
       "2     4082\n",
       "Name: date_seen, dtype: int64"
      ]
     },
     "execution_count": 102,
     "metadata": {},
     "output_type": "execute_result"
    }
   ],
   "source": [
    "umonth = date_seen.dt.month\n",
    "x = umonth.value_counts()#which month has most ufo sightings\n",
    "x"
   ]
  },
  {
   "cell_type": "code",
   "execution_count": null,
   "metadata": {
    "collapsed": true
   },
   "outputs": [],
   "source": [
    "ufos = pd.read_csv('ufos.csv', parse_dates=True, index_col='date_seen')"
   ]
  },
  {
   "cell_type": "code",
   "execution_count": 51,
   "metadata": {
    "collapsed": false
   },
   "outputs": [
    {
     "data": {
      "text/plain": [
       "8     4761\n",
       "9     3098\n",
       "10     943\n",
       "4      874\n",
       "11     562\n",
       "7      534\n",
       "5      533\n",
       "6      443\n",
       "3      397\n",
       "2      181\n",
       "1      118\n",
       "12      27\n",
       "Name: date_started, dtype: int64"
      ]
     },
     "execution_count": 51,
     "metadata": {},
     "output_type": "execute_result"
    }
   ],
   "source": [
    "disaster = pd.read_csv(\"disasters.csv\")\n",
    "disaster_date = disaster[\"date_started\"]\n",
    "disaster_date = pd.to_datetime(disaster_date)\n",
    "dmonth = disaster_date.dt.month\n",
    "dmonth.value_counts()# natural disaster counts for what month they started"
   ]
  },
  {
   "cell_type": "code",
   "execution_count": 101,
   "metadata": {
    "collapsed": false
   },
   "outputs": [
    {
     "data": {
      "text/plain": [
       "4     398\n",
       "9     285\n",
       "5     161\n",
       "8     121\n",
       "7      87\n",
       "6      82\n",
       "3      53\n",
       "11     52\n",
       "10     27\n",
       "2      27\n",
       "1      21\n",
       "12      8\n",
       "Name: date_started, dtype: int64"
      ]
     },
     "execution_count": 101,
     "metadata": {},
     "output_type": "execute_result"
    }
   ],
   "source": [
    "CAdisasters = disaster.loc[disaster['state']== 'California']\n",
    "CAdisasters['disaster_type'].value_counts()\n",
    "disaster['disaster_type'].value_counts()\n",
    "same_day = disaster.loc[disaster['date_started']== disaster['date_ended']]\n",
    "yy= pd.to_datetime(same_day['date_started'])\n",
    "yy = yy.dt.month\n",
    "yy.value_counts()"
   ]
  },
  {
   "cell_type": "code",
   "execution_count": 52,
   "metadata": {
    "collapsed": false
   },
   "outputs": [
    {
     "data": {
      "text/plain": [
       "10.0    4543\n",
       "9.0     2677\n",
       "11.0    1246\n",
       "8.0      783\n",
       "5.0      666\n",
       "7.0      563\n",
       "4.0      488\n",
       "6.0      383\n",
       "12.0     346\n",
       "3.0      345\n",
       "1.0       47\n",
       "2.0       47\n",
       "Name: date_ended, dtype: int64"
      ]
     },
     "execution_count": 52,
     "metadata": {},
     "output_type": "execute_result"
    }
   ],
   "source": [
    "disaster_end = disaster[\"date_ended\"]\n",
    "disaster_end = pd.to_datetime(disaster_end)\n",
    "demonth = disaster_end.dt.month\n",
    "demonth.value_counts() #natural disaster counts for what month they ended"
   ]
  },
  {
   "cell_type": "code",
   "execution_count": 84,
   "metadata": {
    "collapsed": false
   },
   "outputs": [
    {
     "data": {
      "text/plain": [
       "Los Angeles      449\n",
       "San Diego        379\n",
       "Sacramento       219\n",
       "San Jose         195\n",
       "San Francisco    195\n",
       "Fresno           114\n",
       "Bakersfield       90\n",
       "Santa Rosa        80\n",
       "Burbank           80\n",
       "Modesto           79\n",
       "Name: city, dtype: int64"
      ]
     },
     "execution_count": 84,
     "metadata": {},
     "output_type": "execute_result"
    }
   ],
   "source": [
    "CA = ufo.loc[ufo['state']== 'California']\n",
    "\n",
    "pd.DataFrame(CA)\n",
    "california_cities = CA['city'].value_counts()\n",
    "california_cities[0:10,]"
   ]
  },
  {
   "cell_type": "code",
   "execution_count": 80,
   "metadata": {
    "collapsed": false
   },
   "outputs": [
    {
     "data": {
      "text/plain": [
       "light        1953\n",
       "triangle      886\n",
       "circle        873\n",
       "unknown       842\n",
       "fireball      733\n",
       "other         662\n",
       "sphere        661\n",
       "disk          655\n",
       "oval          411\n",
       "formation     315\n",
       "changing      289\n",
       "cigar         204\n",
       "rectangle     158\n",
       "chevron       157\n",
       "diamond       155\n",
       "flash         154\n",
       "cylinder      133\n",
       "egg            94\n",
       "teardrop       78\n",
       "cone           31\n",
       "cross          31\n",
       "round           1\n",
       "flare           1\n",
       "Name: shape, dtype: int64"
      ]
     },
     "execution_count": 80,
     "metadata": {},
     "output_type": "execute_result"
    }
   ],
   "source": [
    "CA['shape'].value_counts()"
   ]
  },
  {
   "cell_type": "code",
   "execution_count": 69,
   "metadata": {
    "collapsed": false,
    "scrolled": true
   },
   "outputs": [
    {
     "data": {
      "text/plain": [
       "light        14470\n",
       "triangle      7013\n",
       "unknown       6565\n",
       "circle        6463\n",
       "fireball      5489\n",
       "other         4784\n",
       "sphere        4628\n",
       "disk          4242\n",
       "oval          3210\n",
       "formation     2139\n",
       "cigar         1719\n",
       "changing      1708\n",
       "flash         1161\n",
       "rectangle     1143\n",
       "cylinder      1094\n",
       "diamond        998\n",
       "chevron        865\n",
       "teardrop       639\n",
       "egg            632\n",
       "cone           263\n",
       "cross          198\n",
       "delta            6\n",
       "crescent         2\n",
       "round            2\n",
       "flare            1\n",
       "pyramid          1\n",
       "hexagon          1\n",
       "changed          1\n",
       "Name: shape, dtype: int64"
      ]
     },
     "execution_count": 69,
     "metadata": {},
     "output_type": "execute_result"
    }
   ],
   "source": [
    "ufo['shape'].value_counts()"
   ]
  },
  {
   "cell_type": "code",
   "execution_count": 88,
   "metadata": {
    "collapsed": false
   },
   "outputs": [],
   "source": [
    "\n"
   ]
  },
  {
   "cell_type": "code",
   "execution_count": 87,
   "metadata": {
    "collapsed": false
   },
   "outputs": [
    {
     "data": {
      "text/plain": [
       "South        8360\n",
       "Midwest      1612\n",
       "West         1458\n",
       "Northeast    1041\n",
       "Name: region_name, dtype: int64"
      ]
     },
     "execution_count": 87,
     "metadata": {},
     "output_type": "execute_result"
    }
   ],
   "source": [
    "disaster['region_name'].value_counts()"
   ]
  },
  {
   "cell_type": "code",
   "execution_count": null,
   "metadata": {
    "collapsed": true
   },
   "outputs": [],
   "source": []
  }
 ],
 "metadata": {
  "kernelspec": {
   "display_name": "Python 2",
   "language": "python",
   "name": "python2"
  },
  "language_info": {
   "codemirror_mode": {
    "name": "ipython",
    "version": 2
   },
   "file_extension": ".py",
   "mimetype": "text/x-python",
   "name": "python",
   "nbconvert_exporter": "python",
   "pygments_lexer": "ipython2",
   "version": "2.7.12rc1"
  }
 },
 "nbformat": 4,
 "nbformat_minor": 2
}
