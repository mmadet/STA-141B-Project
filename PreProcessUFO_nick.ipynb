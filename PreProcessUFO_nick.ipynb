{
 "cells": [
  {
   "cell_type": "markdown",
   "metadata": {},
   "source": [
    "# Preprocessing UFOs"
   ]
  },
  {
   "cell_type": "markdown",
   "metadata": {},
   "source": [
    "## Importing and checking data types"
   ]
  },
  {
   "cell_type": "code",
   "execution_count": 54,
   "metadata": {
    "collapsed": false
   },
   "outputs": [
    {
     "name": "stdout",
     "output_type": "stream",
     "text": [
      "<class 'pandas.core.frame.DataFrame'>\n",
      "RangeIndex: 80332 entries, 0 to 80331\n",
      "Data columns (total 11 columns):\n",
      "date_seen       80332 non-null object\n",
      "city_raw        80332 non-null object\n",
      "state_abbr      74535 non-null object\n",
      "country         70662 non-null object\n",
      "shape           78400 non-null object\n",
      "duration_sec    80332 non-null object\n",
      "duration_min    80332 non-null object\n",
      "comments        80317 non-null object\n",
      "date_posted     80332 non-null datetime64[ns]\n",
      "latitude        80332 non-null object\n",
      "longitude       80332 non-null float64\n",
      "dtypes: datetime64[ns](1), float64(1), object(9)\n",
      "memory usage: 6.7+ MB\n"
     ]
    }
   ],
   "source": [
    "import pandas as pd\n",
    "\n",
    "ufo_path = '~/Desktop/STA 141B/141B-Final-Project/ufo-sightings/scrubbed.csv'\n",
    "\n",
    "# http://pandas.pydata.org/pandas-docs/stable/generated/pandas.read_csv.html\n",
    "ufos = pd.read_csv(ufo_path, header=0,\n",
    "                   names=['date_seen', 'city_raw', 'state_abbr', 'country', 'shape', 'duration_sec',\n",
    "                          'duration_min', 'comments', 'date_posted', 'latitude', 'longitude'],\n",
    "                   parse_dates=['date_posted'], infer_datetime_format=True)\n",
    "\n",
    "# check data types\n",
    "ufos.info()"
   ]
  },
  {
   "cell_type": "markdown",
   "metadata": {},
   "source": [
    "## Change columns data type"
   ]
  },
  {
   "cell_type": "code",
   "execution_count": 55,
   "metadata": {
    "collapsed": false
   },
   "outputs": [
    {
     "ename": "ValueError",
     "evalue": "('Unable to parse string \"2`\" at position 27822', u'occurred at index duration_sec')",
     "output_type": "error",
     "traceback": [
      "\u001b[0;31m---------------------------------------------------------------------------\u001b[0m",
      "\u001b[0;31mValueError\u001b[0m                                Traceback (most recent call last)",
      "\u001b[0;32m<ipython-input-55-05396e2caaba>\u001b[0m in \u001b[0;36m<module>\u001b[0;34m()\u001b[0m\n\u001b[1;32m      1\u001b[0m \u001b[0;31m# change duration in seconds and latitude to numeric\u001b[0m\u001b[0;34m\u001b[0m\u001b[0;34m\u001b[0m\u001b[0m\n\u001b[0;32m----> 2\u001b[0;31m \u001b[0mufos\u001b[0m\u001b[0;34m[\u001b[0m\u001b[0;34m[\u001b[0m\u001b[0;34m'duration_sec'\u001b[0m\u001b[0;34m,\u001b[0m \u001b[0;34m'latitude'\u001b[0m\u001b[0;34m]\u001b[0m\u001b[0;34m]\u001b[0m \u001b[0;34m=\u001b[0m \u001b[0mufos\u001b[0m\u001b[0;34m[\u001b[0m\u001b[0;34m[\u001b[0m\u001b[0;34m'duration_sec'\u001b[0m\u001b[0;34m,\u001b[0m \u001b[0;34m'latitude'\u001b[0m\u001b[0;34m]\u001b[0m\u001b[0;34m]\u001b[0m\u001b[0;34m.\u001b[0m\u001b[0mapply\u001b[0m\u001b[0;34m(\u001b[0m\u001b[0mpd\u001b[0m\u001b[0;34m.\u001b[0m\u001b[0mto_numeric\u001b[0m\u001b[0;34m)\u001b[0m\u001b[0;34m\u001b[0m\u001b[0m\n\u001b[0m",
      "\u001b[0;32m//anaconda/envs/py27/lib/python2.7/site-packages/pandas/core/frame.pyc\u001b[0m in \u001b[0;36mapply\u001b[0;34m(self, func, axis, broadcast, raw, reduce, args, **kwds)\u001b[0m\n\u001b[1;32m   4150\u001b[0m                     \u001b[0;32mif\u001b[0m \u001b[0mreduce\u001b[0m \u001b[0;32mis\u001b[0m \u001b[0mNone\u001b[0m\u001b[0;34m:\u001b[0m\u001b[0;34m\u001b[0m\u001b[0m\n\u001b[1;32m   4151\u001b[0m                         \u001b[0mreduce\u001b[0m \u001b[0;34m=\u001b[0m \u001b[0mTrue\u001b[0m\u001b[0;34m\u001b[0m\u001b[0m\n\u001b[0;32m-> 4152\u001b[0;31m                     \u001b[0;32mreturn\u001b[0m \u001b[0mself\u001b[0m\u001b[0;34m.\u001b[0m\u001b[0m_apply_standard\u001b[0m\u001b[0;34m(\u001b[0m\u001b[0mf\u001b[0m\u001b[0;34m,\u001b[0m \u001b[0maxis\u001b[0m\u001b[0;34m,\u001b[0m \u001b[0mreduce\u001b[0m\u001b[0;34m=\u001b[0m\u001b[0mreduce\u001b[0m\u001b[0;34m)\u001b[0m\u001b[0;34m\u001b[0m\u001b[0m\n\u001b[0m\u001b[1;32m   4153\u001b[0m             \u001b[0;32melse\u001b[0m\u001b[0;34m:\u001b[0m\u001b[0;34m\u001b[0m\u001b[0m\n\u001b[1;32m   4154\u001b[0m                 \u001b[0;32mreturn\u001b[0m \u001b[0mself\u001b[0m\u001b[0;34m.\u001b[0m\u001b[0m_apply_broadcast\u001b[0m\u001b[0;34m(\u001b[0m\u001b[0mf\u001b[0m\u001b[0;34m,\u001b[0m \u001b[0maxis\u001b[0m\u001b[0;34m)\u001b[0m\u001b[0;34m\u001b[0m\u001b[0m\n",
      "\u001b[0;32m//anaconda/envs/py27/lib/python2.7/site-packages/pandas/core/frame.pyc\u001b[0m in \u001b[0;36m_apply_standard\u001b[0;34m(self, func, axis, ignore_failures, reduce)\u001b[0m\n\u001b[1;32m   4246\u001b[0m             \u001b[0;32mtry\u001b[0m\u001b[0;34m:\u001b[0m\u001b[0;34m\u001b[0m\u001b[0m\n\u001b[1;32m   4247\u001b[0m                 \u001b[0;32mfor\u001b[0m \u001b[0mi\u001b[0m\u001b[0;34m,\u001b[0m \u001b[0mv\u001b[0m \u001b[0;32min\u001b[0m \u001b[0menumerate\u001b[0m\u001b[0;34m(\u001b[0m\u001b[0mseries_gen\u001b[0m\u001b[0;34m)\u001b[0m\u001b[0;34m:\u001b[0m\u001b[0;34m\u001b[0m\u001b[0m\n\u001b[0;32m-> 4248\u001b[0;31m                     \u001b[0mresults\u001b[0m\u001b[0;34m[\u001b[0m\u001b[0mi\u001b[0m\u001b[0;34m]\u001b[0m \u001b[0;34m=\u001b[0m \u001b[0mfunc\u001b[0m\u001b[0;34m(\u001b[0m\u001b[0mv\u001b[0m\u001b[0;34m)\u001b[0m\u001b[0;34m\u001b[0m\u001b[0m\n\u001b[0m\u001b[1;32m   4249\u001b[0m                     \u001b[0mkeys\u001b[0m\u001b[0;34m.\u001b[0m\u001b[0mappend\u001b[0m\u001b[0;34m(\u001b[0m\u001b[0mv\u001b[0m\u001b[0;34m.\u001b[0m\u001b[0mname\u001b[0m\u001b[0;34m)\u001b[0m\u001b[0;34m\u001b[0m\u001b[0m\n\u001b[1;32m   4250\u001b[0m             \u001b[0;32mexcept\u001b[0m \u001b[0mException\u001b[0m \u001b[0;32mas\u001b[0m \u001b[0me\u001b[0m\u001b[0;34m:\u001b[0m\u001b[0;34m\u001b[0m\u001b[0m\n",
      "\u001b[0;32m//anaconda/envs/py27/lib/python2.7/site-packages/pandas/tools/util.pyc\u001b[0m in \u001b[0;36mto_numeric\u001b[0;34m(arg, errors, downcast)\u001b[0m\n\u001b[1;32m    193\u001b[0m             \u001b[0mcoerce_numeric\u001b[0m \u001b[0;34m=\u001b[0m \u001b[0mFalse\u001b[0m \u001b[0;32mif\u001b[0m \u001b[0merrors\u001b[0m \u001b[0;32min\u001b[0m \u001b[0;34m(\u001b[0m\u001b[0;34m'ignore'\u001b[0m\u001b[0;34m,\u001b[0m \u001b[0;34m'raise'\u001b[0m\u001b[0;34m)\u001b[0m \u001b[0;32melse\u001b[0m \u001b[0mTrue\u001b[0m\u001b[0;34m\u001b[0m\u001b[0m\n\u001b[1;32m    194\u001b[0m             values = lib.maybe_convert_numeric(values, set(),\n\u001b[0;32m--> 195\u001b[0;31m                                                coerce_numeric=coerce_numeric)\n\u001b[0m\u001b[1;32m    196\u001b[0m \u001b[0;34m\u001b[0m\u001b[0m\n\u001b[1;32m    197\u001b[0m     \u001b[0;32mexcept\u001b[0m \u001b[0mException\u001b[0m\u001b[0;34m:\u001b[0m\u001b[0;34m\u001b[0m\u001b[0m\n",
      "\u001b[0;32mpandas/src/inference.pyx\u001b[0m in \u001b[0;36mpandas.lib.maybe_convert_numeric (pandas/lib.c:56097)\u001b[0;34m()\u001b[0m\n",
      "\u001b[0;31mValueError\u001b[0m: ('Unable to parse string \"2`\" at position 27822', u'occurred at index duration_sec')"
     ]
    }
   ],
   "source": [
    "# change duration in seconds and latitude to numeric\n",
    "ufos[['duration_sec', 'latitude']] = ufos[['duration_sec', 'latitude']].apply(pd.to_numeric)"
   ]
  },
  {
   "cell_type": "code",
   "execution_count": 56,
   "metadata": {
    "collapsed": false
   },
   "outputs": [
    {
     "name": "stdout",
     "output_type": "stream",
     "text": [
      "             date_seen           city_raw state_abbr country   shape  \\\n",
      "27822   2/2/2000 19:33              bouse         az      us     NaN   \n",
      "35692  4/10/2005 22:52         santa cruz         ca      us     NaN   \n",
      "58591  7/21/2006 13:00  ibague (colombia)        NaN     NaN  circle   \n",
      "\n",
      "      duration_sec        duration_min  \\\n",
      "27822           2`  each a few seconds   \n",
      "35692           8`       eight seconds   \n",
      "58591         0.5`         1/2 segundo   \n",
      "\n",
      "                                                comments date_posted  \\\n",
      "27822  Driving through Plomosa Pass towards Bouse Loo...  2000-02-16   \n",
      "35692  2 red lights moving together and apart with a ...  2005-04-16   \n",
      "58591  Viajaba a 27.000 pies en un avion comercial ve...  2006-10-30   \n",
      "\n",
      "         latitude   longitude  \n",
      "27822  33.9325000 -114.005000  \n",
      "35692  36.9741667 -122.029722  \n",
      "58591    4.440663  -75.244141  \n"
     ]
    }
   ],
   "source": [
    "# find the errors\n",
    "print ufos[ufos['duration_sec'].str.contains('`', na=False)]\n",
    "\n",
    "# from the result we see that we need to set values to 3 rows of this instance\n",
    "ufos = ufos.set_value(27822, 'duration_sec', '2')\n",
    "ufos = ufos.set_value(35692, 'duration_sec', '8')\n",
    "ufos = ufos.set_value(58591, 'duration_sec', '0.5')"
   ]
  },
  {
   "cell_type": "code",
   "execution_count": 57,
   "metadata": {
    "collapsed": false
   },
   "outputs": [
    {
     "ename": "ValueError",
     "evalue": "('Unable to parse string \"33q.200088\" at position 43782', u'occurred at index latitude')",
     "output_type": "error",
     "traceback": [
      "\u001b[0;31m---------------------------------------------------------------------------\u001b[0m",
      "\u001b[0;31mValueError\u001b[0m                                Traceback (most recent call last)",
      "\u001b[0;32m<ipython-input-57-9824d05478a2>\u001b[0m in \u001b[0;36m<module>\u001b[0;34m()\u001b[0m\n\u001b[1;32m      1\u001b[0m \u001b[0;31m# try again\u001b[0m\u001b[0;34m\u001b[0m\u001b[0;34m\u001b[0m\u001b[0m\n\u001b[0;32m----> 2\u001b[0;31m \u001b[0mufos\u001b[0m\u001b[0;34m[\u001b[0m\u001b[0;34m[\u001b[0m\u001b[0;34m'duration_sec'\u001b[0m\u001b[0;34m,\u001b[0m \u001b[0;34m'latitude'\u001b[0m\u001b[0;34m]\u001b[0m\u001b[0;34m]\u001b[0m \u001b[0;34m=\u001b[0m \u001b[0mufos\u001b[0m\u001b[0;34m[\u001b[0m\u001b[0;34m[\u001b[0m\u001b[0;34m'duration_sec'\u001b[0m\u001b[0;34m,\u001b[0m \u001b[0;34m'latitude'\u001b[0m\u001b[0;34m]\u001b[0m\u001b[0;34m]\u001b[0m\u001b[0;34m.\u001b[0m\u001b[0mapply\u001b[0m\u001b[0;34m(\u001b[0m\u001b[0mpd\u001b[0m\u001b[0;34m.\u001b[0m\u001b[0mto_numeric\u001b[0m\u001b[0;34m)\u001b[0m\u001b[0;34m\u001b[0m\u001b[0m\n\u001b[0m",
      "\u001b[0;32m//anaconda/envs/py27/lib/python2.7/site-packages/pandas/core/frame.pyc\u001b[0m in \u001b[0;36mapply\u001b[0;34m(self, func, axis, broadcast, raw, reduce, args, **kwds)\u001b[0m\n\u001b[1;32m   4150\u001b[0m                     \u001b[0;32mif\u001b[0m \u001b[0mreduce\u001b[0m \u001b[0;32mis\u001b[0m \u001b[0mNone\u001b[0m\u001b[0;34m:\u001b[0m\u001b[0;34m\u001b[0m\u001b[0m\n\u001b[1;32m   4151\u001b[0m                         \u001b[0mreduce\u001b[0m \u001b[0;34m=\u001b[0m \u001b[0mTrue\u001b[0m\u001b[0;34m\u001b[0m\u001b[0m\n\u001b[0;32m-> 4152\u001b[0;31m                     \u001b[0;32mreturn\u001b[0m \u001b[0mself\u001b[0m\u001b[0;34m.\u001b[0m\u001b[0m_apply_standard\u001b[0m\u001b[0;34m(\u001b[0m\u001b[0mf\u001b[0m\u001b[0;34m,\u001b[0m \u001b[0maxis\u001b[0m\u001b[0;34m,\u001b[0m \u001b[0mreduce\u001b[0m\u001b[0;34m=\u001b[0m\u001b[0mreduce\u001b[0m\u001b[0;34m)\u001b[0m\u001b[0;34m\u001b[0m\u001b[0m\n\u001b[0m\u001b[1;32m   4153\u001b[0m             \u001b[0;32melse\u001b[0m\u001b[0;34m:\u001b[0m\u001b[0;34m\u001b[0m\u001b[0m\n\u001b[1;32m   4154\u001b[0m                 \u001b[0;32mreturn\u001b[0m \u001b[0mself\u001b[0m\u001b[0;34m.\u001b[0m\u001b[0m_apply_broadcast\u001b[0m\u001b[0;34m(\u001b[0m\u001b[0mf\u001b[0m\u001b[0;34m,\u001b[0m \u001b[0maxis\u001b[0m\u001b[0;34m)\u001b[0m\u001b[0;34m\u001b[0m\u001b[0m\n",
      "\u001b[0;32m//anaconda/envs/py27/lib/python2.7/site-packages/pandas/core/frame.pyc\u001b[0m in \u001b[0;36m_apply_standard\u001b[0;34m(self, func, axis, ignore_failures, reduce)\u001b[0m\n\u001b[1;32m   4246\u001b[0m             \u001b[0;32mtry\u001b[0m\u001b[0;34m:\u001b[0m\u001b[0;34m\u001b[0m\u001b[0m\n\u001b[1;32m   4247\u001b[0m                 \u001b[0;32mfor\u001b[0m \u001b[0mi\u001b[0m\u001b[0;34m,\u001b[0m \u001b[0mv\u001b[0m \u001b[0;32min\u001b[0m \u001b[0menumerate\u001b[0m\u001b[0;34m(\u001b[0m\u001b[0mseries_gen\u001b[0m\u001b[0;34m)\u001b[0m\u001b[0;34m:\u001b[0m\u001b[0;34m\u001b[0m\u001b[0m\n\u001b[0;32m-> 4248\u001b[0;31m                     \u001b[0mresults\u001b[0m\u001b[0;34m[\u001b[0m\u001b[0mi\u001b[0m\u001b[0;34m]\u001b[0m \u001b[0;34m=\u001b[0m \u001b[0mfunc\u001b[0m\u001b[0;34m(\u001b[0m\u001b[0mv\u001b[0m\u001b[0;34m)\u001b[0m\u001b[0;34m\u001b[0m\u001b[0m\n\u001b[0m\u001b[1;32m   4249\u001b[0m                     \u001b[0mkeys\u001b[0m\u001b[0;34m.\u001b[0m\u001b[0mappend\u001b[0m\u001b[0;34m(\u001b[0m\u001b[0mv\u001b[0m\u001b[0;34m.\u001b[0m\u001b[0mname\u001b[0m\u001b[0;34m)\u001b[0m\u001b[0;34m\u001b[0m\u001b[0m\n\u001b[1;32m   4250\u001b[0m             \u001b[0;32mexcept\u001b[0m \u001b[0mException\u001b[0m \u001b[0;32mas\u001b[0m \u001b[0me\u001b[0m\u001b[0;34m:\u001b[0m\u001b[0;34m\u001b[0m\u001b[0m\n",
      "\u001b[0;32m//anaconda/envs/py27/lib/python2.7/site-packages/pandas/tools/util.pyc\u001b[0m in \u001b[0;36mto_numeric\u001b[0;34m(arg, errors, downcast)\u001b[0m\n\u001b[1;32m    193\u001b[0m             \u001b[0mcoerce_numeric\u001b[0m \u001b[0;34m=\u001b[0m \u001b[0mFalse\u001b[0m \u001b[0;32mif\u001b[0m \u001b[0merrors\u001b[0m \u001b[0;32min\u001b[0m \u001b[0;34m(\u001b[0m\u001b[0;34m'ignore'\u001b[0m\u001b[0;34m,\u001b[0m \u001b[0;34m'raise'\u001b[0m\u001b[0;34m)\u001b[0m \u001b[0;32melse\u001b[0m \u001b[0mTrue\u001b[0m\u001b[0;34m\u001b[0m\u001b[0m\n\u001b[1;32m    194\u001b[0m             values = lib.maybe_convert_numeric(values, set(),\n\u001b[0;32m--> 195\u001b[0;31m                                                coerce_numeric=coerce_numeric)\n\u001b[0m\u001b[1;32m    196\u001b[0m \u001b[0;34m\u001b[0m\u001b[0m\n\u001b[1;32m    197\u001b[0m     \u001b[0;32mexcept\u001b[0m \u001b[0mException\u001b[0m\u001b[0;34m:\u001b[0m\u001b[0;34m\u001b[0m\u001b[0m\n",
      "\u001b[0;32mpandas/src/inference.pyx\u001b[0m in \u001b[0;36mpandas.lib.maybe_convert_numeric (pandas/lib.c:56097)\u001b[0;34m()\u001b[0m\n",
      "\u001b[0;31mValueError\u001b[0m: ('Unable to parse string \"33q.200088\" at position 43782', u'occurred at index latitude')"
     ]
    }
   ],
   "source": [
    "# try again\n",
    "ufos[['duration_sec', 'latitude']] = ufos[['duration_sec', 'latitude']].apply(pd.to_numeric)"
   ]
  },
  {
   "cell_type": "code",
   "execution_count": 58,
   "metadata": {
    "collapsed": false
   },
   "outputs": [
    {
     "name": "stdout",
     "output_type": "stream",
     "text": [
      "             date_seen                      city_raw state_abbr country  \\\n",
      "43782  5/22/1974 05:30  mescalero indian reservation         nm     NaN   \n",
      "\n",
      "           shape duration_sec duration_min  \\\n",
      "43782  rectangle          180    two hours   \n",
      "\n",
      "                                                comments date_posted  \\\n",
      "43782  Huge rectangular object emmitting intense whit...  2012-04-18   \n",
      "\n",
      "         latitude   longitude  \n",
      "43782  33q.200088 -105.624152  \n"
     ]
    }
   ],
   "source": [
    "print ufos[ufos['latitude'].str.contains('[a-zA-Z]', na=False)]\n",
    "\n",
    "# we again see that lat has a letter in one of the positions we'll check to\n",
    "# see how many there are\n",
    "ufos = ufos.set_value(43782, 'latitude', '33.200088')"
   ]
  },
  {
   "cell_type": "markdown",
   "metadata": {},
   "source": [
    "### Update duration_min from duration_sec"
   ]
  },
  {
   "cell_type": "code",
   "execution_count": 59,
   "metadata": {
    "collapsed": false
   },
   "outputs": [],
   "source": [
    "# change duration in seconds and latitude to numeric\n",
    "ufos[['duration_sec', 'latitude']] = ufos[['duration_sec', 'latitude']].apply(pd.to_numeric)\n",
    "\n",
    "# change seconds to minutes\n",
    "ufos['duration_min'] =  ufos['duration_sec']/60\n",
    "\n",
    "# drop the seconds column, we can get minutes from seconds\n",
    "del ufos['duration_sec']"
   ]
  },
  {
   "cell_type": "markdown",
   "metadata": {},
   "source": [
    "## Reformat names of records & set DateTime index"
   ]
  },
  {
   "cell_type": "code",
   "execution_count": 60,
   "metadata": {
    "collapsed": false
   },
   "outputs": [
    {
     "name": "stdout",
     "output_type": "stream",
     "text": [
      "(65114, 9)\n"
     ]
    }
   ],
   "source": [
    "# upper case words as necessary\n",
    "ufos['city_raw'] = ufos['city_raw'].str.title()\n",
    "ufos['state_abbr'] = ufos['state_abbr'].str.upper()\n",
    "ufos['country'] = ufos['country'].str.upper()\n",
    "\n",
    "# change date_seen col to date_time type\n",
    "ufos['date_seen'] = pd.to_datetime(ufos['date_seen'], errors='coerce')\n",
    "\n",
    "# set row indices as date_seen\n",
    "ufos = ufos.set_index('date_seen')\n",
    "\n",
    "# check how many US records there are\n",
    "print ufos[ufos['country'] == 'US'].shape"
   ]
  },
  {
   "cell_type": "markdown",
   "metadata": {},
   "source": [
    "## Explore for anomalies"
   ]
  },
  {
   "cell_type": "code",
   "execution_count": 61,
   "metadata": {
    "collapsed": false
   },
   "outputs": [
    {
     "name": "stdout",
     "output_type": "stream",
     "text": [
      "(6414, 9)\n"
     ]
    },
    {
     "data": {
      "text/html": [
       "<div>\n",
       "<table border=\"1\" class=\"dataframe\">\n",
       "  <thead>\n",
       "    <tr style=\"text-align: right;\">\n",
       "      <th></th>\n",
       "      <th>city_raw</th>\n",
       "      <th>state_abbr</th>\n",
       "      <th>country</th>\n",
       "      <th>shape</th>\n",
       "      <th>duration_min</th>\n",
       "      <th>comments</th>\n",
       "      <th>date_posted</th>\n",
       "      <th>latitude</th>\n",
       "      <th>longitude</th>\n",
       "    </tr>\n",
       "    <tr>\n",
       "      <th>date_seen</th>\n",
       "      <th></th>\n",
       "      <th></th>\n",
       "      <th></th>\n",
       "      <th></th>\n",
       "      <th></th>\n",
       "      <th></th>\n",
       "      <th></th>\n",
       "      <th></th>\n",
       "      <th></th>\n",
       "    </tr>\n",
       "  </thead>\n",
       "  <tbody>\n",
       "    <tr>\n",
       "      <th>1949-10-10 21:00:00</th>\n",
       "      <td>Lackland Afb</td>\n",
       "      <td>TX</td>\n",
       "      <td>NaN</td>\n",
       "      <td>light</td>\n",
       "      <td>120.0</td>\n",
       "      <td>1949 Lackland AFB&amp;#44 TX.  Lights racing acros...</td>\n",
       "      <td>2005-12-16</td>\n",
       "      <td>29.384210</td>\n",
       "      <td>-98.581082</td>\n",
       "    </tr>\n",
       "    <tr>\n",
       "      <th>1979-10-10 22:00:00</th>\n",
       "      <td>Saddle Lake (Canada)</td>\n",
       "      <td>AB</td>\n",
       "      <td>NaN</td>\n",
       "      <td>triangle</td>\n",
       "      <td>4.5</td>\n",
       "      <td>Lights far above&amp;#44  that glance; then flee f...</td>\n",
       "      <td>2005-01-19</td>\n",
       "      <td>53.970571</td>\n",
       "      <td>-111.689885</td>\n",
       "    </tr>\n",
       "    <tr>\n",
       "      <th>1986-10-10 20:00:00</th>\n",
       "      <td>Holmes/Pawling</td>\n",
       "      <td>NY</td>\n",
       "      <td>NaN</td>\n",
       "      <td>chevron</td>\n",
       "      <td>3.0</td>\n",
       "      <td>Football Field Sized Chevron with bright white...</td>\n",
       "      <td>2007-10-08</td>\n",
       "      <td>41.523427</td>\n",
       "      <td>-73.646795</td>\n",
       "    </tr>\n",
       "    <tr>\n",
       "      <th>1989-10-10 21:00:00</th>\n",
       "      <td>Kranklin</td>\n",
       "      <td>KY</td>\n",
       "      <td>NaN</td>\n",
       "      <td>triangle</td>\n",
       "      <td>3.0</td>\n",
       "      <td>Triangle seen in franklin Ky - october 1989</td>\n",
       "      <td>2005-05-11</td>\n",
       "      <td>36.722263</td>\n",
       "      <td>-86.577218</td>\n",
       "    </tr>\n",
       "    <tr>\n",
       "      <th>1994-10-10 15:00:00</th>\n",
       "      <td>Mercedies</td>\n",
       "      <td>TX</td>\n",
       "      <td>NaN</td>\n",
       "      <td>cigar</td>\n",
       "      <td>60.0</td>\n",
       "      <td>ufo chased by fighter jet over Rio Grande Vall...</td>\n",
       "      <td>2011-12-12</td>\n",
       "      <td>26.149798</td>\n",
       "      <td>-97.913611</td>\n",
       "    </tr>\n",
       "  </tbody>\n",
       "</table>\n",
       "</div>"
      ],
      "text/plain": [
       "                                 city_raw state_abbr country     shape  \\\n",
       "date_seen                                                                \n",
       "1949-10-10 21:00:00          Lackland Afb         TX     NaN     light   \n",
       "1979-10-10 22:00:00  Saddle Lake (Canada)         AB     NaN  triangle   \n",
       "1986-10-10 20:00:00        Holmes/Pawling         NY     NaN   chevron   \n",
       "1989-10-10 21:00:00              Kranklin         KY     NaN  triangle   \n",
       "1994-10-10 15:00:00             Mercedies         TX     NaN     cigar   \n",
       "\n",
       "                     duration_min  \\\n",
       "date_seen                           \n",
       "1949-10-10 21:00:00         120.0   \n",
       "1979-10-10 22:00:00           4.5   \n",
       "1986-10-10 20:00:00           3.0   \n",
       "1989-10-10 21:00:00           3.0   \n",
       "1994-10-10 15:00:00          60.0   \n",
       "\n",
       "                                                              comments  \\\n",
       "date_seen                                                                \n",
       "1949-10-10 21:00:00  1949 Lackland AFB&#44 TX.  Lights racing acros...   \n",
       "1979-10-10 22:00:00  Lights far above&#44  that glance; then flee f...   \n",
       "1986-10-10 20:00:00  Football Field Sized Chevron with bright white...   \n",
       "1989-10-10 21:00:00        Triangle seen in franklin Ky - october 1989   \n",
       "1994-10-10 15:00:00  ufo chased by fighter jet over Rio Grande Vall...   \n",
       "\n",
       "                    date_posted   latitude   longitude  \n",
       "date_seen                                               \n",
       "1949-10-10 21:00:00  2005-12-16  29.384210  -98.581082  \n",
       "1979-10-10 22:00:00  2005-01-19  53.970571 -111.689885  \n",
       "1986-10-10 20:00:00  2007-10-08  41.523427  -73.646795  \n",
       "1989-10-10 21:00:00  2005-05-11  36.722263  -86.577218  \n",
       "1994-10-10 15:00:00  2011-12-12  26.149798  -97.913611  "
      ]
     },
     "execution_count": 61,
     "metadata": {},
     "output_type": "execute_result"
    }
   ],
   "source": [
    "# want to subet by country, but check if there is any NA we can change\n",
    "na_country = ufos[ufos['state_abbr'].notnull() & ufos['country'].isnull()]\n",
    "print na_country.shape\n",
    "na_country.head()"
   ]
  },
  {
   "cell_type": "markdown",
   "metadata": {},
   "source": [
    "From looking we can see many records in the DF that have a state (most likely in the US) but no country. We can match them to state_table.csv which was downloaded from https://statetable.com/ with the following steps\n",
    "\n",
    "- USA\n",
    "- Just include states/provinces\n",
    "- No, do not include DC in the list\n",
    "- No, do not include military addresses \n",
    "- Only include current states and territories \n",
    "- Do not include the US Minor Outlying Islands \n",
    "- A CSV file I can open in my office suite"
   ]
  },
  {
   "cell_type": "markdown",
   "metadata": {},
   "source": [
    "### Combine state data"
   ]
  },
  {
   "cell_type": "code",
   "execution_count": 62,
   "metadata": {
    "collapsed": false
   },
   "outputs": [
    {
     "data": {
      "text/html": [
       "<div>\n",
       "<table border=\"1\" class=\"dataframe\">\n",
       "  <thead>\n",
       "    <tr style=\"text-align: right;\">\n",
       "      <th></th>\n",
       "      <th>id</th>\n",
       "      <th>name</th>\n",
       "      <th>abbreviation</th>\n",
       "      <th>country</th>\n",
       "      <th>type</th>\n",
       "      <th>sort</th>\n",
       "      <th>status</th>\n",
       "      <th>occupied</th>\n",
       "      <th>notes</th>\n",
       "      <th>fips_state</th>\n",
       "      <th>assoc_press</th>\n",
       "      <th>standard_federal_region</th>\n",
       "      <th>census_region</th>\n",
       "      <th>census_region_name</th>\n",
       "      <th>census_division</th>\n",
       "      <th>census_division_name</th>\n",
       "      <th>circuit_court</th>\n",
       "    </tr>\n",
       "  </thead>\n",
       "  <tbody>\n",
       "    <tr>\n",
       "      <th>0</th>\n",
       "      <td>1</td>\n",
       "      <td>Alabama</td>\n",
       "      <td>AL</td>\n",
       "      <td>USA</td>\n",
       "      <td>state</td>\n",
       "      <td>10</td>\n",
       "      <td>current</td>\n",
       "      <td>occupied</td>\n",
       "      <td>NaN</td>\n",
       "      <td>1</td>\n",
       "      <td>Ala.</td>\n",
       "      <td>IV</td>\n",
       "      <td>3</td>\n",
       "      <td>South</td>\n",
       "      <td>6</td>\n",
       "      <td>East South Central</td>\n",
       "      <td>11</td>\n",
       "    </tr>\n",
       "    <tr>\n",
       "      <th>1</th>\n",
       "      <td>2</td>\n",
       "      <td>Alaska</td>\n",
       "      <td>AK</td>\n",
       "      <td>USA</td>\n",
       "      <td>state</td>\n",
       "      <td>10</td>\n",
       "      <td>current</td>\n",
       "      <td>occupied</td>\n",
       "      <td>NaN</td>\n",
       "      <td>2</td>\n",
       "      <td>Alaska</td>\n",
       "      <td>X</td>\n",
       "      <td>4</td>\n",
       "      <td>West</td>\n",
       "      <td>9</td>\n",
       "      <td>Pacific</td>\n",
       "      <td>9</td>\n",
       "    </tr>\n",
       "    <tr>\n",
       "      <th>2</th>\n",
       "      <td>3</td>\n",
       "      <td>Arizona</td>\n",
       "      <td>AZ</td>\n",
       "      <td>USA</td>\n",
       "      <td>state</td>\n",
       "      <td>10</td>\n",
       "      <td>current</td>\n",
       "      <td>occupied</td>\n",
       "      <td>NaN</td>\n",
       "      <td>4</td>\n",
       "      <td>Ariz.</td>\n",
       "      <td>IX</td>\n",
       "      <td>4</td>\n",
       "      <td>West</td>\n",
       "      <td>8</td>\n",
       "      <td>Mountain</td>\n",
       "      <td>9</td>\n",
       "    </tr>\n",
       "    <tr>\n",
       "      <th>3</th>\n",
       "      <td>4</td>\n",
       "      <td>Arkansas</td>\n",
       "      <td>AR</td>\n",
       "      <td>USA</td>\n",
       "      <td>state</td>\n",
       "      <td>10</td>\n",
       "      <td>current</td>\n",
       "      <td>occupied</td>\n",
       "      <td>NaN</td>\n",
       "      <td>5</td>\n",
       "      <td>Ark.</td>\n",
       "      <td>VI</td>\n",
       "      <td>3</td>\n",
       "      <td>South</td>\n",
       "      <td>7</td>\n",
       "      <td>West South Central</td>\n",
       "      <td>8</td>\n",
       "    </tr>\n",
       "    <tr>\n",
       "      <th>4</th>\n",
       "      <td>5</td>\n",
       "      <td>California</td>\n",
       "      <td>CA</td>\n",
       "      <td>USA</td>\n",
       "      <td>state</td>\n",
       "      <td>10</td>\n",
       "      <td>current</td>\n",
       "      <td>occupied</td>\n",
       "      <td>NaN</td>\n",
       "      <td>6</td>\n",
       "      <td>Calif.</td>\n",
       "      <td>IX</td>\n",
       "      <td>4</td>\n",
       "      <td>West</td>\n",
       "      <td>9</td>\n",
       "      <td>Pacific</td>\n",
       "      <td>9</td>\n",
       "    </tr>\n",
       "  </tbody>\n",
       "</table>\n",
       "</div>"
      ],
      "text/plain": [
       "   id        name abbreviation country   type  sort   status  occupied  notes  \\\n",
       "0   1     Alabama           AL     USA  state    10  current  occupied    NaN   \n",
       "1   2      Alaska           AK     USA  state    10  current  occupied    NaN   \n",
       "2   3     Arizona           AZ     USA  state    10  current  occupied    NaN   \n",
       "3   4    Arkansas           AR     USA  state    10  current  occupied    NaN   \n",
       "4   5  California           CA     USA  state    10  current  occupied    NaN   \n",
       "\n",
       "   fips_state assoc_press standard_federal_region  census_region  \\\n",
       "0           1        Ala.                      IV              3   \n",
       "1           2      Alaska                       X              4   \n",
       "2           4       Ariz.                      IX              4   \n",
       "3           5        Ark.                      VI              3   \n",
       "4           6      Calif.                      IX              4   \n",
       "\n",
       "  census_region_name  census_division census_division_name  circuit_court  \n",
       "0              South                6   East South Central             11  \n",
       "1               West                9              Pacific              9  \n",
       "2               West                8             Mountain              9  \n",
       "3              South                7   West South Central              8  \n",
       "4               West                9              Pacific              9  "
      ]
     },
     "execution_count": 62,
     "metadata": {},
     "output_type": "execute_result"
    }
   ],
   "source": [
    "state_table = pd.read_csv('state_table.csv')\n",
    "state_table.head()"
   ]
  },
  {
   "cell_type": "code",
   "execution_count": 63,
   "metadata": {
    "collapsed": false
   },
   "outputs": [
    {
     "name": "stdout",
     "output_type": "stream",
     "text": [
      "(70828, 9)\n"
     ]
    }
   ],
   "source": [
    "cond1 = ufos['state_abbr'].notnull() & ufos['country'].isnull()\n",
    "cond2 = ufos['state_abbr'].isin(state_table['abbreviation'])     # filtering join\n",
    "ufos.loc[cond1 & cond2, 'country'] = 'US'\n",
    "\n",
    "# check how many US records there are now\n",
    "print ufos[ufos['country'] == 'US'].shape"
   ]
  },
  {
   "cell_type": "code",
   "execution_count": 64,
   "metadata": {
    "collapsed": false,
    "scrolled": true
   },
   "outputs": [
    {
     "name": "stdout",
     "output_type": "stream",
     "text": [
      "(32, 9)\n"
     ]
    },
    {
     "data": {
      "text/html": [
       "<div>\n",
       "<table border=\"1\" class=\"dataframe\">\n",
       "  <thead>\n",
       "    <tr style=\"text-align: right;\">\n",
       "      <th></th>\n",
       "      <th>city_raw</th>\n",
       "      <th>state_abbr</th>\n",
       "      <th>country</th>\n",
       "      <th>shape</th>\n",
       "      <th>duration_min</th>\n",
       "      <th>comments</th>\n",
       "      <th>date_posted</th>\n",
       "      <th>latitude</th>\n",
       "      <th>longitude</th>\n",
       "    </tr>\n",
       "    <tr>\n",
       "      <th>date_seen</th>\n",
       "      <th></th>\n",
       "      <th></th>\n",
       "      <th></th>\n",
       "      <th></th>\n",
       "      <th></th>\n",
       "      <th></th>\n",
       "      <th></th>\n",
       "      <th></th>\n",
       "      <th></th>\n",
       "    </tr>\n",
       "  </thead>\n",
       "  <tbody>\n",
       "    <tr>\n",
       "      <th>1998-10-11 14:05:00</th>\n",
       "      <td>Vega Baja (Puerto Rico)</td>\n",
       "      <td>PR</td>\n",
       "      <td>US</td>\n",
       "      <td>cigar</td>\n",
       "      <td>2.000000</td>\n",
       "      <td>I went out and saw this cigar shaped object&amp;#4...</td>\n",
       "      <td>1998-11-01</td>\n",
       "      <td>18.446389</td>\n",
       "      <td>-66.388056</td>\n",
       "    </tr>\n",
       "    <tr>\n",
       "      <th>1999-01-10 01:00:00</th>\n",
       "      <td>San Lorenzo (Puerto Rico)</td>\n",
       "      <td>PR</td>\n",
       "      <td>US</td>\n",
       "      <td>formation</td>\n",
       "      <td>1.000000</td>\n",
       "      <td>I was with my parent inside our car when sudde...</td>\n",
       "      <td>1999-11-02</td>\n",
       "      <td>18.191389</td>\n",
       "      <td>-65.961389</td>\n",
       "    </tr>\n",
       "    <tr>\n",
       "      <th>2002-11-01 23:30:00</th>\n",
       "      <td>Arroyo (Puerto Rico)</td>\n",
       "      <td>PR</td>\n",
       "      <td>US</td>\n",
       "      <td>triangle</td>\n",
       "      <td>0.500000</td>\n",
       "      <td>we saw what it looked to be a triangle shap ob...</td>\n",
       "      <td>2002-11-04</td>\n",
       "      <td>17.967778</td>\n",
       "      <td>-66.061667</td>\n",
       "    </tr>\n",
       "    <tr>\n",
       "      <th>1989-11-15 23:00:00</th>\n",
       "      <td>Moca (Puerto Rico)</td>\n",
       "      <td>PR</td>\n",
       "      <td>US</td>\n",
       "      <td>unknown</td>\n",
       "      <td>1.000000</td>\n",
       "      <td>Late&amp;#44 cloudy night in Moca&amp;#44 Puerto Rico....</td>\n",
       "      <td>1999-02-16</td>\n",
       "      <td>18.396667</td>\n",
       "      <td>-67.113611</td>\n",
       "    </tr>\n",
       "    <tr>\n",
       "      <th>2011-12-11 20:08:00</th>\n",
       "      <td>Washington</td>\n",
       "      <td>DC</td>\n",
       "      <td>US</td>\n",
       "      <td>cylinder</td>\n",
       "      <td>0.066667</td>\n",
       "      <td>Luminous object thought to be a star?</td>\n",
       "      <td>2012-01-12</td>\n",
       "      <td>38.895000</td>\n",
       "      <td>-77.036667</td>\n",
       "    </tr>\n",
       "  </tbody>\n",
       "</table>\n",
       "</div>"
      ],
      "text/plain": [
       "                                      city_raw state_abbr country      shape  \\\n",
       "date_seen                                                                      \n",
       "1998-10-11 14:05:00    Vega Baja (Puerto Rico)         PR      US      cigar   \n",
       "1999-01-10 01:00:00  San Lorenzo (Puerto Rico)         PR      US  formation   \n",
       "2002-11-01 23:30:00       Arroyo (Puerto Rico)         PR      US   triangle   \n",
       "1989-11-15 23:00:00         Moca (Puerto Rico)         PR      US    unknown   \n",
       "2011-12-11 20:08:00                 Washington         DC      US   cylinder   \n",
       "\n",
       "                     duration_min  \\\n",
       "date_seen                           \n",
       "1998-10-11 14:05:00      2.000000   \n",
       "1999-01-10 01:00:00      1.000000   \n",
       "2002-11-01 23:30:00      0.500000   \n",
       "1989-11-15 23:00:00      1.000000   \n",
       "2011-12-11 20:08:00      0.066667   \n",
       "\n",
       "                                                              comments  \\\n",
       "date_seen                                                                \n",
       "1998-10-11 14:05:00  I went out and saw this cigar shaped object&#4...   \n",
       "1999-01-10 01:00:00  I was with my parent inside our car when sudde...   \n",
       "2002-11-01 23:30:00  we saw what it looked to be a triangle shap ob...   \n",
       "1989-11-15 23:00:00  Late&#44 cloudy night in Moca&#44 Puerto Rico....   \n",
       "2011-12-11 20:08:00              Luminous object thought to be a star?   \n",
       "\n",
       "                    date_posted   latitude  longitude  \n",
       "date_seen                                              \n",
       "1998-10-11 14:05:00  1998-11-01  18.446389 -66.388056  \n",
       "1999-01-10 01:00:00  1999-11-02  18.191389 -65.961389  \n",
       "2002-11-01 23:30:00  2002-11-04  17.967778 -66.061667  \n",
       "1989-11-15 23:00:00  1999-02-16  18.396667 -67.113611  \n",
       "2011-12-11 20:08:00  2012-01-12  38.895000 -77.036667  "
      ]
     },
     "execution_count": 64,
     "metadata": {},
     "output_type": "execute_result"
    }
   ],
   "source": [
    "# check now how many records are in US but are NOT in the abbrevations list in state_table\n",
    "cond1 = ufos['country'] == 'US'\n",
    "cond2 = ~ufos['state_abbr'].isin(state_table['abbreviation'])\n",
    "print ufos.loc[cond1 & cond2].shape\n",
    "ufos.loc[cond1 & cond2].head()"
   ]
  },
  {
   "cell_type": "markdown",
   "metadata": {},
   "source": [
    "We can see these are either Purto Rico or Washington, but there's only 32 so we wont include these for the analysis"
   ]
  },
  {
   "cell_type": "code",
   "execution_count": 65,
   "metadata": {
    "collapsed": false
   },
   "outputs": [
    {
     "name": "stdout",
     "output_type": "stream",
     "text": [
      "(69448, 13)\n"
     ]
    },
    {
     "data": {
      "text/html": [
       "<div>\n",
       "<table border=\"1\" class=\"dataframe\">\n",
       "  <thead>\n",
       "    <tr style=\"text-align: right;\">\n",
       "      <th></th>\n",
       "      <th>city_raw</th>\n",
       "      <th>state_abbr</th>\n",
       "      <th>country</th>\n",
       "      <th>shape</th>\n",
       "      <th>duration_min</th>\n",
       "      <th>comments</th>\n",
       "      <th>date_posted</th>\n",
       "      <th>latitude</th>\n",
       "      <th>longitude</th>\n",
       "      <th>abbreviation</th>\n",
       "      <th>name</th>\n",
       "      <th>census_region_name</th>\n",
       "      <th>census_division_name</th>\n",
       "    </tr>\n",
       "    <tr>\n",
       "      <th>date_seen</th>\n",
       "      <th></th>\n",
       "      <th></th>\n",
       "      <th></th>\n",
       "      <th></th>\n",
       "      <th></th>\n",
       "      <th></th>\n",
       "      <th></th>\n",
       "      <th></th>\n",
       "      <th></th>\n",
       "      <th></th>\n",
       "      <th></th>\n",
       "      <th></th>\n",
       "      <th></th>\n",
       "    </tr>\n",
       "  </thead>\n",
       "  <tbody>\n",
       "    <tr>\n",
       "      <th>1965-10-10 23:45:00</th>\n",
       "      <td>Norwalk</td>\n",
       "      <td>CT</td>\n",
       "      <td>US</td>\n",
       "      <td>disk</td>\n",
       "      <td>20.000000</td>\n",
       "      <td>A bright orange color changing to reddish colo...</td>\n",
       "      <td>1999-10-02</td>\n",
       "      <td>41.117500</td>\n",
       "      <td>-73.408333</td>\n",
       "      <td>CT</td>\n",
       "      <td>Connecticut</td>\n",
       "      <td>Northeast</td>\n",
       "      <td>New England</td>\n",
       "    </tr>\n",
       "    <tr>\n",
       "      <th>1973-10-10 19:00:00</th>\n",
       "      <td>Niantic</td>\n",
       "      <td>CT</td>\n",
       "      <td>US</td>\n",
       "      <td>disk</td>\n",
       "      <td>30.000000</td>\n",
       "      <td>Oh&amp;#44 what a night &amp;#33  Two (2) saucer-shape...</td>\n",
       "      <td>2003-09-24</td>\n",
       "      <td>41.325278</td>\n",
       "      <td>-72.193611</td>\n",
       "      <td>CT</td>\n",
       "      <td>Connecticut</td>\n",
       "      <td>Northeast</td>\n",
       "      <td>New England</td>\n",
       "    </tr>\n",
       "    <tr>\n",
       "      <th>2010-10-10 12:00:00</th>\n",
       "      <td>Greenwich</td>\n",
       "      <td>CT</td>\n",
       "      <td>US</td>\n",
       "      <td>light</td>\n",
       "      <td>4.000000</td>\n",
       "      <td>&amp;quot;Star&amp;quot; like objects during clear day...</td>\n",
       "      <td>2010-11-21</td>\n",
       "      <td>41.026389</td>\n",
       "      <td>-73.628889</td>\n",
       "      <td>CT</td>\n",
       "      <td>Connecticut</td>\n",
       "      <td>Northeast</td>\n",
       "      <td>New England</td>\n",
       "    </tr>\n",
       "    <tr>\n",
       "      <th>2010-10-10 17:10:00</th>\n",
       "      <td>Bridgeport</td>\n",
       "      <td>CT</td>\n",
       "      <td>US</td>\n",
       "      <td>light</td>\n",
       "      <td>10.000000</td>\n",
       "      <td>Saw a light in the sky fading in and out over ...</td>\n",
       "      <td>2010-11-21</td>\n",
       "      <td>41.166944</td>\n",
       "      <td>-73.205278</td>\n",
       "      <td>CT</td>\n",
       "      <td>Connecticut</td>\n",
       "      <td>Northeast</td>\n",
       "      <td>New England</td>\n",
       "    </tr>\n",
       "    <tr>\n",
       "      <th>2010-10-10 20:20:00</th>\n",
       "      <td>Windsor</td>\n",
       "      <td>CT</td>\n",
       "      <td>US</td>\n",
       "      <td>fireball</td>\n",
       "      <td>0.083333</td>\n",
       "      <td>Bus sized fireball object over 91 about 3-400 ...</td>\n",
       "      <td>2014-05-02</td>\n",
       "      <td>41.852500</td>\n",
       "      <td>-72.644167</td>\n",
       "      <td>CT</td>\n",
       "      <td>Connecticut</td>\n",
       "      <td>Northeast</td>\n",
       "      <td>New England</td>\n",
       "    </tr>\n",
       "  </tbody>\n",
       "</table>\n",
       "</div>"
      ],
      "text/plain": [
       "                       city_raw state_abbr country     shape  duration_min  \\\n",
       "date_seen                                                                    \n",
       "1965-10-10 23:45:00     Norwalk         CT      US      disk     20.000000   \n",
       "1973-10-10 19:00:00     Niantic         CT      US      disk     30.000000   \n",
       "2010-10-10 12:00:00   Greenwich         CT      US     light      4.000000   \n",
       "2010-10-10 17:10:00  Bridgeport         CT      US     light     10.000000   \n",
       "2010-10-10 20:20:00     Windsor         CT      US  fireball      0.083333   \n",
       "\n",
       "                                                              comments  \\\n",
       "date_seen                                                                \n",
       "1965-10-10 23:45:00  A bright orange color changing to reddish colo...   \n",
       "1973-10-10 19:00:00  Oh&#44 what a night &#33  Two (2) saucer-shape...   \n",
       "2010-10-10 12:00:00  &quot;Star&quot; like objects during clear day...   \n",
       "2010-10-10 17:10:00  Saw a light in the sky fading in and out over ...   \n",
       "2010-10-10 20:20:00  Bus sized fireball object over 91 about 3-400 ...   \n",
       "\n",
       "                    date_posted   latitude  longitude abbreviation  \\\n",
       "date_seen                                                            \n",
       "1965-10-10 23:45:00  1999-10-02  41.117500 -73.408333           CT   \n",
       "1973-10-10 19:00:00  2003-09-24  41.325278 -72.193611           CT   \n",
       "2010-10-10 12:00:00  2010-11-21  41.026389 -73.628889           CT   \n",
       "2010-10-10 17:10:00  2010-11-21  41.166944 -73.205278           CT   \n",
       "2010-10-10 20:20:00  2014-05-02  41.852500 -72.644167           CT   \n",
       "\n",
       "                            name census_region_name census_division_name  \n",
       "date_seen                                                                 \n",
       "1965-10-10 23:45:00  Connecticut          Northeast          New England  \n",
       "1973-10-10 19:00:00  Connecticut          Northeast          New England  \n",
       "2010-10-10 12:00:00  Connecticut          Northeast          New England  \n",
       "2010-10-10 17:10:00  Connecticut          Northeast          New England  \n",
       "2010-10-10 20:20:00  Connecticut          Northeast          New England  "
      ]
     },
     "execution_count": 65,
     "metadata": {},
     "output_type": "execute_result"
    }
   ],
   "source": [
    "# subset the data to be only the US\n",
    "ufos = ufos.loc[ufos['country'] == 'US']\n",
    "\n",
    "# get records from 1965 and beyond (Natural Disasters starts from 1965 onwards)\n",
    "ufos = ufos.loc['1965':]\n",
    "\n",
    "# Here we can merge some specific columns over from the state_table to the ufos DF\n",
    "stble_cols = ['abbreviation', 'name', 'census_region_name', 'census_division_name']\n",
    "ufos = ufos.reset_index().merge(state_table[stble_cols], how='inner', left_on='state_abbr', right_on='abbreviation').set_index('date_seen')\n",
    "\n",
    "print ufos.shape\n",
    "ufos.head()"
   ]
  },
  {
   "cell_type": "markdown",
   "metadata": {},
   "source": [
    "## Clean the DF"
   ]
  },
  {
   "cell_type": "code",
   "execution_count": 66,
   "metadata": {
    "collapsed": false
   },
   "outputs": [],
   "source": [
    "# delete the repeated column (abbreviation) and country (we know its in the US)\n",
    "del ufos['abbreviation']\n",
    "del ufos['country']\n",
    "\n",
    "# change names of some columns\n",
    "ufos = ufos.rename(columns={'name':'state', 'census_region_name':'region_name', 'census_division_name':'division_name'})\n",
    "\n",
    "# reorder DF and sort index\n",
    "reorder_cols = ['date_posted','shape','duration_min','comments', 'city_raw', 'state', \n",
    "                'state_abbr','division_name','region_name', 'latitude', 'longitude']\n",
    "\n",
    "ufos = ufos[reorder_cols]\n",
    "ufos = ufos.sort_index()\n",
    "\n",
    "# fill NAs with unknown for shape\n",
    "ufos['shape'] = ufos['shape'].fillna('unknown')\n",
    "\n",
    "# output the DF\n",
    "ufos.to_csv('ufos.csv')"
   ]
  },
  {
   "cell_type": "code",
   "execution_count": null,
   "metadata": {
    "collapsed": false
   },
   "outputs": [],
   "source": []
  },
  {
   "cell_type": "markdown",
   "metadata": {},
   "source": [
    "## Reverse geocode to get city and zip code"
   ]
  },
  {
   "cell_type": "code",
<<<<<<< HEAD
   "execution_count": 1,
=======
   "execution_count": 7,
>>>>>>> ed37084d9a3d890adfab6c252e734b725143c5ff
   "metadata": {
    "collapsed": false
   },
   "outputs": [
    {
     "name": "stdout",
     "output_type": "stream",
     "text": [
<<<<<<< HEAD
      "15794\n"
=======
      "15960\n"
>>>>>>> ed37084d9a3d890adfab6c252e734b725143c5ff
     ]
    }
   ],
   "source": [
    "import pandas as pd\n",
    "import geocoder\n",
    "import pickle\n",
    "\n",
    "ufos = pd.read_csv('ufos.csv', parse_dates=True, index_col='date_seen')\n",
    "\n",
    "# load up the data structure\n",
    "L = pickle.load( open( \"latlong.p\", \"rb\" ) )\n",
    "print len(L)\n",
    "\n",
    "# make lat/long strings\n",
    "locs = ufos[['latitude','longitude']].astype(str).values.tolist()"
   ]
  },
  {
   "cell_type": "markdown",
   "metadata": {},
   "source": [
    "#### Loop to get city/zip codes "
   ]
  },
  {
   "cell_type": "code",
<<<<<<< HEAD
   "execution_count": 2,
=======
   "execution_count": 8,
>>>>>>> ed37084d9a3d890adfab6c252e734b725143c5ff
   "metadata": {
    "collapsed": false
   },
   "outputs": [
    {
     "ename": "Exception",
     "evalue": "Query Limit Exceeded",
     "output_type": "error",
     "traceback": [
      "\u001b[0;31m---------------------------------------------------------------------------\u001b[0m",
      "\u001b[0;31mException\u001b[0m                                 Traceback (most recent call last)",
<<<<<<< HEAD
      "\u001b[0;32m<ipython-input-2-a648d87c360f>\u001b[0m in \u001b[0;36m<module>\u001b[0;34m()\u001b[0m\n\u001b[1;32m     14\u001b[0m         \u001b[0;31m# stop trying to query\u001b[0m\u001b[0;34m\u001b[0m\u001b[0;34m\u001b[0m\u001b[0m\n\u001b[1;32m     15\u001b[0m         \u001b[0;32mif\u001b[0m \u001b[0mg\u001b[0m\u001b[0;34m.\u001b[0m\u001b[0merror\u001b[0m \u001b[0;34m==\u001b[0m \u001b[0;34m'OVER_QUERY_LIMIT'\u001b[0m\u001b[0;34m:\u001b[0m\u001b[0;34m\u001b[0m\u001b[0m\n\u001b[0;32m---> 16\u001b[0;31m             \u001b[0;32mraise\u001b[0m \u001b[0mException\u001b[0m\u001b[0;34m(\u001b[0m\u001b[0;34m'Query Limit Exceeded'\u001b[0m\u001b[0;34m)\u001b[0m\u001b[0;34m\u001b[0m\u001b[0m\n\u001b[0m\u001b[1;32m     17\u001b[0m \u001b[0;34m\u001b[0m\u001b[0m\n\u001b[1;32m     18\u001b[0m         L[key] = {'city':g.city, 'neighborhood':g.neighborhood, \n",
=======
      "\u001b[0;32m<ipython-input-8-a648d87c360f>\u001b[0m in \u001b[0;36m<module>\u001b[0;34m()\u001b[0m\n\u001b[1;32m     14\u001b[0m         \u001b[0;31m# stop trying to query\u001b[0m\u001b[0;34m\u001b[0m\u001b[0;34m\u001b[0m\u001b[0m\n\u001b[1;32m     15\u001b[0m         \u001b[0;32mif\u001b[0m \u001b[0mg\u001b[0m\u001b[0;34m.\u001b[0m\u001b[0merror\u001b[0m \u001b[0;34m==\u001b[0m \u001b[0;34m'OVER_QUERY_LIMIT'\u001b[0m\u001b[0;34m:\u001b[0m\u001b[0;34m\u001b[0m\u001b[0m\n\u001b[0;32m---> 16\u001b[0;31m             \u001b[0;32mraise\u001b[0m \u001b[0mException\u001b[0m\u001b[0;34m(\u001b[0m\u001b[0;34m'Query Limit Exceeded'\u001b[0m\u001b[0;34m)\u001b[0m\u001b[0;34m\u001b[0m\u001b[0m\n\u001b[0m\u001b[1;32m     17\u001b[0m \u001b[0;34m\u001b[0m\u001b[0m\n\u001b[1;32m     18\u001b[0m         L[key] = {'city':g.city, 'neighborhood':g.neighborhood, \n",
>>>>>>> ed37084d9a3d890adfab6c252e734b725143c5ff
      "\u001b[0;31mException\u001b[0m: Query Limit Exceeded"
     ]
    }
   ],
   "source": [
    "# for finding out how far we're in the file\n",
    "row_counter = 0\n",
    "\n",
    "# loop through the lat-long list\n",
    "for l in locs:\n",
    "    \n",
    "    key = ','.join(l)\n",
    "    row_counter += 1\n",
    "    \n",
    "    if key not in L:\n",
    "        \n",
    "        g = geocoder.google(l, method='reverse')\n",
    "        \n",
    "        # stop trying to query\n",
    "        if g.error == 'OVER_QUERY_LIMIT':\n",
    "            raise Exception('Query Limit Exceeded')\n",
    "        \n",
    "        L[key] = {'city':g.city, 'neighborhood':g.neighborhood, \n",
    "                  'zip_code':g.postal, 'county':g.county, 'address':g.address}\n",
    "    else:\n",
    "        pass"
   ]
  },
  {
   "cell_type": "code",
<<<<<<< HEAD
   "execution_count": 3,
=======
   "execution_count": 9,
>>>>>>> ed37084d9a3d890adfab6c252e734b725143c5ff
   "metadata": {
    "collapsed": false
   },
   "outputs": [
    {
     "data": {
      "text/plain": [
<<<<<<< HEAD
       "65214"
      ]
     },
     "execution_count": 3,
=======
       "65473"
      ]
     },
     "execution_count": 9,
>>>>>>> ed37084d9a3d890adfab6c252e734b725143c5ff
     "metadata": {},
     "output_type": "execute_result"
    }
   ],
   "source": [
    "# check the row counter\n",
    "row_counter"
   ]
  },
  {
   "cell_type": "code",
<<<<<<< HEAD
   "execution_count": 4,
=======
   "execution_count": 10,
>>>>>>> ed37084d9a3d890adfab6c252e734b725143c5ff
   "metadata": {
    "collapsed": false
   },
   "outputs": [
    {
     "data": {
      "text/plain": [
<<<<<<< HEAD
       "(69448, 11)"
      ]
     },
     "execution_count": 4,
     "metadata": {},
     "output_type": "execute_result"
    }
   ],
   "source": [
    "ufos.shape"
   ]
  },
  {
   "cell_type": "code",
   "execution_count": 5,
   "metadata": {
    "collapsed": false
   },
   "outputs": [
    {
     "data": {
      "text/plain": [
       "15935"
      ]
     },
     "execution_count": 5,
=======
       "15970"
      ]
     },
     "execution_count": 10,
>>>>>>> ed37084d9a3d890adfab6c252e734b725143c5ff
     "metadata": {},
     "output_type": "execute_result"
    }
   ],
   "source": [
    "# check the new length of the data structure\n",
    "# if its the same length as before or didnt go up a lot\n",
    "# dont save it in the next block\n",
    "len(L)"
   ]
  },
  {
   "cell_type": "code",
<<<<<<< HEAD
   "execution_count": 6,
=======
   "execution_count": 11,
>>>>>>> ed37084d9a3d890adfab6c252e734b725143c5ff
   "metadata": {
    "collapsed": false
   },
   "outputs": [],
   "source": [
    "# save the new updated data structure\n",
    "# only if there was a significant increase\n",
    "pickle.dump( L, open( \"latlong.p\", \"wb\" ) )"
   ]
  },
  {
   "cell_type": "code",
<<<<<<< HEAD
   "execution_count": 7,
=======
   "execution_count": 12,
>>>>>>> ed37084d9a3d890adfab6c252e734b725143c5ff
   "metadata": {
    "collapsed": false
   },
   "outputs": [
    {
     "data": {
      "text/plain": [
<<<<<<< HEAD
       "15935"
      ]
     },
     "execution_count": 7,
=======
       "15970"
      ]
     },
     "execution_count": 12,
>>>>>>> ed37084d9a3d890adfab6c252e734b725143c5ff
     "metadata": {},
     "output_type": "execute_result"
    }
   ],
   "source": [
    "# make sure it was saved properly\n",
    "LL = pickle.load( open( \"latlong.p\", \"rb\" ) )\n",
    "len(LL)"
   ]
  },
  {
   "cell_type": "code",
   "execution_count": 38,
   "metadata": {
    "collapsed": false,
    "scrolled": true
   },
   "outputs": [],
   "source": [
    "# # select all the city and zip codes that arent NA\n",
    "# ufos = pd.read_csv('ufos2.csv', parse_dates=True, index_col='date_seen')\n",
    "\n",
    "# cond1 = ufos2['city'].notnull()\n",
    "# cond2 = ufos2['zip_code'].notnull()\n",
    "\n",
    "# sub_ufos2 = ufos2[cond1 & cond2]\n",
    "\n",
    "# sub_ufos2.head()\n",
    "\n",
    "# locs = sub_ufos2[['latitude','longitude','city','zip_code']].astype(str).values.tolist()\n",
    "\n",
    "# L = {}\n",
    "# for i in locs[:10]:\n",
    "#     key = ','.join(locs[3][:2])\n",
    "#     ','.join(locs[3][-2:])\n",
    "\n",
    "# {'city':locs[3][2], 'zip_code':locs[3][3]}\n",
    "    \n",
    "# L = {}\n",
    "# row_counter = 0\n",
    "# for l in locs:\n",
    "#     key = ','.join(l[:2])\n",
    "#     if key not in L:\n",
    "#         L[key] = {'city':l[2], 'zip_code':l[3]}\n",
    "#     else:\n",
    "#         pass\n",
    "#     row_counter += 1"
   ]
  },
  {
   "cell_type": "markdown",
   "metadata": {},
   "source": [
    "## Mapping latitudes and longitudes"
   ]
  },
  {
   "cell_type": "code",
   "execution_count": 19,
   "metadata": {
    "collapsed": false
   },
   "outputs": [],
   "source": [
    "import pandas as pd\n",
    "import geocoder\n",
    "import pickle\n",
    "\n",
    "ufos = pd.read_csv('ufos.csv', parse_dates=True, index_col='date_seen')\n",
    "\n",
    "# load up the data structure\n",
    "L = pickle.load( open( \"latlong.p\", \"rb\" ) )\n",
    "\n",
    "# make lat/long strings and a new temp column\n",
    "locs = ufos[['latitude','longitude']].astype(str).values.tolist()\n",
    "ufos['latlong_key'] = [','.join(x) for x in locs]"
   ]
  },
  {
   "cell_type": "code",
   "execution_count": 20,
   "metadata": {
    "collapsed": false,
    "scrolled": true
   },
   "outputs": [],
   "source": [
    "# map the latlong_key to the dictionary L\n",
    "ufos['geo_stuff'] = ufos['latlong_key'].map(L)"
   ]
  },
  {
   "cell_type": "code",
   "execution_count": 21,
   "metadata": {
    "collapsed": false,
    "scrolled": true
   },
   "outputs": [
    {
     "data": {
      "text/html": [
       "<div>\n",
       "<table border=\"1\" class=\"dataframe\">\n",
       "  <thead>\n",
       "    <tr style=\"text-align: right;\">\n",
       "      <th></th>\n",
       "      <th>date_posted</th>\n",
       "      <th>shape</th>\n",
       "      <th>duration_min</th>\n",
       "      <th>comments</th>\n",
       "      <th>city_raw</th>\n",
       "      <th>state</th>\n",
       "      <th>state_abbr</th>\n",
       "      <th>division_name</th>\n",
       "      <th>region_name</th>\n",
       "      <th>latitude</th>\n",
       "      <th>longitude</th>\n",
       "      <th>latlong_key</th>\n",
       "      <th>geo_stuff</th>\n",
       "    </tr>\n",
       "    <tr>\n",
       "      <th>date_seen</th>\n",
       "      <th></th>\n",
       "      <th></th>\n",
       "      <th></th>\n",
       "      <th></th>\n",
       "      <th></th>\n",
       "      <th></th>\n",
       "      <th></th>\n",
       "      <th></th>\n",
       "      <th></th>\n",
       "      <th></th>\n",
       "      <th></th>\n",
       "      <th></th>\n",
       "      <th></th>\n",
       "    </tr>\n",
       "  </thead>\n",
       "  <tbody>\n",
       "    <tr>\n",
       "      <th>1965-01-01 17:00:00</th>\n",
       "      <td>2010-11-21</td>\n",
       "      <td>light</td>\n",
       "      <td>0.333333</td>\n",
       "      <td>Light over Mokena Illinios</td>\n",
       "      <td>Mokena</td>\n",
       "      <td>Illinois</td>\n",
       "      <td>IL</td>\n",
       "      <td>East North Central</td>\n",
       "      <td>Midwest</td>\n",
       "      <td>41.526111</td>\n",
       "      <td>-87.889167</td>\n",
       "      <td>41.5261111,-87.8891667</td>\n",
       "      <td>{u'city': u'Mokena', u'zip_code': u'60448'}</td>\n",
       "    </tr>\n",
       "    <tr>\n",
       "      <th>1965-01-01 20:00:00</th>\n",
       "      <td>2007-02-01</td>\n",
       "      <td>fireball</td>\n",
       "      <td>0.333333</td>\n",
       "      <td>winter nite wonder</td>\n",
       "      <td>St. Ansgar</td>\n",
       "      <td>Iowa</td>\n",
       "      <td>IA</td>\n",
       "      <td>West North Central</td>\n",
       "      <td>Midwest</td>\n",
       "      <td>43.378333</td>\n",
       "      <td>-92.918611</td>\n",
       "      <td>43.3783333,-92.9186111</td>\n",
       "      <td>{u'city': u'St Ansgar', u'zip_code': u'50472'}</td>\n",
       "    </tr>\n",
       "    <tr>\n",
       "      <th>1965-01-01 20:00:00</th>\n",
       "      <td>1998-06-02</td>\n",
       "      <td>light</td>\n",
       "      <td>60.000000</td>\n",
       "      <td>At a drive-in during the summer my brother and...</td>\n",
       "      <td>Conway</td>\n",
       "      <td>Arkansas</td>\n",
       "      <td>AR</td>\n",
       "      <td>West South Central</td>\n",
       "      <td>South</td>\n",
       "      <td>35.088611</td>\n",
       "      <td>-92.441944</td>\n",
       "      <td>35.0886111,-92.4419444</td>\n",
       "      <td>{u'city': u'Conway', u'zip_code': u'72034'}</td>\n",
       "    </tr>\n",
       "    <tr>\n",
       "      <th>1965-02-02 06:00:00</th>\n",
       "      <td>2003-07-16</td>\n",
       "      <td>sphere</td>\n",
       "      <td>120.000000</td>\n",
       "      <td>Huge&amp;#44 bright orb in sky over Seattle in 1960s.</td>\n",
       "      <td>Seattle/Belfair</td>\n",
       "      <td>Washington</td>\n",
       "      <td>WA</td>\n",
       "      <td>Pacific</td>\n",
       "      <td>West</td>\n",
       "      <td>47.619239</td>\n",
       "      <td>-122.207923</td>\n",
       "      <td>47.619239,-122.207923</td>\n",
       "      <td>{u'city': u'Bellevue', u'zip_code': u'98004'}</td>\n",
       "    </tr>\n",
       "    <tr>\n",
       "      <th>1965-02-15 17:00:00</th>\n",
       "      <td>2003-08-04</td>\n",
       "      <td>oval</td>\n",
       "      <td>65.000000</td>\n",
       "      <td>Object hovered over electric transformer for a...</td>\n",
       "      <td>Chicago</td>\n",
       "      <td>Illinois</td>\n",
       "      <td>IL</td>\n",
       "      <td>East North Central</td>\n",
       "      <td>Midwest</td>\n",
       "      <td>41.850000</td>\n",
       "      <td>-87.650000</td>\n",
       "      <td>41.85,-87.65</td>\n",
       "      <td>{u'city': u'Chicago', u'zip_code': u'60608'}</td>\n",
       "    </tr>\n",
       "  </tbody>\n",
       "</table>\n",
       "</div>"
      ],
      "text/plain": [
       "                    date_posted     shape  duration_min  \\\n",
       "date_seen                                                 \n",
       "1965-01-01 17:00:00  2010-11-21     light      0.333333   \n",
       "1965-01-01 20:00:00  2007-02-01  fireball      0.333333   \n",
       "1965-01-01 20:00:00  1998-06-02     light     60.000000   \n",
       "1965-02-02 06:00:00  2003-07-16    sphere    120.000000   \n",
       "1965-02-15 17:00:00  2003-08-04      oval     65.000000   \n",
       "\n",
       "                                                              comments  \\\n",
       "date_seen                                                                \n",
       "1965-01-01 17:00:00                         Light over Mokena Illinios   \n",
       "1965-01-01 20:00:00                                 winter nite wonder   \n",
       "1965-01-01 20:00:00  At a drive-in during the summer my brother and...   \n",
       "1965-02-02 06:00:00  Huge&#44 bright orb in sky over Seattle in 1960s.   \n",
       "1965-02-15 17:00:00  Object hovered over electric transformer for a...   \n",
       "\n",
       "                            city_raw       state state_abbr  \\\n",
       "date_seen                                                     \n",
       "1965-01-01 17:00:00           Mokena    Illinois         IL   \n",
       "1965-01-01 20:00:00       St. Ansgar        Iowa         IA   \n",
       "1965-01-01 20:00:00           Conway    Arkansas         AR   \n",
       "1965-02-02 06:00:00  Seattle/Belfair  Washington         WA   \n",
       "1965-02-15 17:00:00          Chicago    Illinois         IL   \n",
       "\n",
       "                          division_name region_name   latitude   longitude  \\\n",
       "date_seen                                                                    \n",
       "1965-01-01 17:00:00  East North Central     Midwest  41.526111  -87.889167   \n",
       "1965-01-01 20:00:00  West North Central     Midwest  43.378333  -92.918611   \n",
       "1965-01-01 20:00:00  West South Central       South  35.088611  -92.441944   \n",
       "1965-02-02 06:00:00             Pacific        West  47.619239 -122.207923   \n",
       "1965-02-15 17:00:00  East North Central     Midwest  41.850000  -87.650000   \n",
       "\n",
       "                                latlong_key  \\\n",
       "date_seen                                     \n",
       "1965-01-01 17:00:00  41.5261111,-87.8891667   \n",
       "1965-01-01 20:00:00  43.3783333,-92.9186111   \n",
       "1965-01-01 20:00:00  35.0886111,-92.4419444   \n",
       "1965-02-02 06:00:00   47.619239,-122.207923   \n",
       "1965-02-15 17:00:00            41.85,-87.65   \n",
       "\n",
       "                                                          geo_stuff  \n",
       "date_seen                                                            \n",
       "1965-01-01 17:00:00     {u'city': u'Mokena', u'zip_code': u'60448'}  \n",
       "1965-01-01 20:00:00  {u'city': u'St Ansgar', u'zip_code': u'50472'}  \n",
       "1965-01-01 20:00:00     {u'city': u'Conway', u'zip_code': u'72034'}  \n",
       "1965-02-02 06:00:00   {u'city': u'Bellevue', u'zip_code': u'98004'}  \n",
       "1965-02-15 17:00:00    {u'city': u'Chicago', u'zip_code': u'60608'}  "
      ]
     },
     "execution_count": 21,
     "metadata": {},
     "output_type": "execute_result"
    }
   ],
   "source": [
    "ufos.head()"
   ]
  },
  {
   "cell_type": "code",
   "execution_count": 5,
   "metadata": {
    "collapsed": false
   },
   "outputs": [],
   "source": [
    "geos = pd.DataFrame(L.values())"
   ]
  },
  {
   "cell_type": "code",
   "execution_count": 6,
   "metadata": {
    "collapsed": false
   },
   "outputs": [
    {
     "data": {
      "text/html": [
       "<div>\n",
       "<table border=\"1\" class=\"dataframe\">\n",
       "  <thead>\n",
       "    <tr style=\"text-align: right;\">\n",
       "      <th></th>\n",
       "      <th>address</th>\n",
       "      <th>city</th>\n",
       "      <th>county</th>\n",
       "      <th>neighborhood</th>\n",
       "      <th>zip_code</th>\n",
       "    </tr>\n",
       "  </thead>\n",
       "  <tbody>\n",
       "    <tr>\n",
       "      <th>0</th>\n",
       "      <td>NaN</td>\n",
       "      <td>Hyde Park</td>\n",
       "      <td>NaN</td>\n",
       "      <td>NaN</td>\n",
       "      <td>15641</td>\n",
       "    </tr>\n",
       "    <tr>\n",
       "      <th>1</th>\n",
       "      <td>NaN</td>\n",
       "      <td>Logansport</td>\n",
       "      <td>NaN</td>\n",
       "      <td>NaN</td>\n",
       "      <td>46947</td>\n",
       "    </tr>\n",
       "    <tr>\n",
       "      <th>2</th>\n",
       "      <td>NaN</td>\n",
       "      <td>La Porte</td>\n",
       "      <td>NaN</td>\n",
       "      <td>NaN</td>\n",
       "      <td>46350</td>\n",
       "    </tr>\n",
       "    <tr>\n",
       "      <th>3</th>\n",
       "      <td>NaN</td>\n",
       "      <td>Trenton</td>\n",
       "      <td>NaN</td>\n",
       "      <td>NaN</td>\n",
       "      <td>45067</td>\n",
       "    </tr>\n",
       "    <tr>\n",
       "      <th>4</th>\n",
       "      <td>101 W Washington St, Nashville, NC 27856, USA</td>\n",
       "      <td>Nashville</td>\n",
       "      <td>Nash County</td>\n",
       "      <td>None</td>\n",
       "      <td>27856</td>\n",
       "    </tr>\n",
       "  </tbody>\n",
       "</table>\n",
       "</div>"
      ],
      "text/plain": [
       "                                         address        city       county  \\\n",
       "0                                            NaN   Hyde Park          NaN   \n",
       "1                                            NaN  Logansport          NaN   \n",
       "2                                            NaN    La Porte          NaN   \n",
       "3                                            NaN     Trenton          NaN   \n",
       "4  101 W Washington St, Nashville, NC 27856, USA   Nashville  Nash County   \n",
       "\n",
       "  neighborhood zip_code  \n",
       "0          NaN    15641  \n",
       "1          NaN    46947  \n",
       "2          NaN    46350  \n",
       "3          NaN    45067  \n",
       "4         None    27856  "
      ]
     },
     "execution_count": 6,
     "metadata": {},
     "output_type": "execute_result"
    }
   ],
   "source": [
    "geos.head()"
   ]
  },
  {
   "cell_type": "code",
   "execution_count": 22,
   "metadata": {
    "collapsed": false
   },
   "outputs": [],
   "source": [
    "ufos = pd.concat([ufos.drop(['geo_stuff'], axis=1), ufos['geo_stuff'].apply(pd.Series)], axis=1)"
   ]
  },
  {
   "cell_type": "code",
   "execution_count": 12,
   "metadata": {
    "collapsed": false
   },
   "outputs": [
    {
     "data": {
      "text/html": [
       "<div>\n",
       "<table border=\"1\" class=\"dataframe\">\n",
       "  <thead>\n",
       "    <tr style=\"text-align: right;\">\n",
       "      <th></th>\n",
       "      <th>date_posted</th>\n",
       "      <th>shape</th>\n",
       "      <th>duration_min</th>\n",
       "      <th>comments</th>\n",
       "      <th>city_raw</th>\n",
       "      <th>state</th>\n",
       "      <th>state_abbr</th>\n",
       "      <th>division_name</th>\n",
       "      <th>region_name</th>\n",
       "      <th>latitude</th>\n",
       "      <th>longitude</th>\n",
       "      <th>latlong_key</th>\n",
       "      <th>0</th>\n",
       "      <th>address</th>\n",
       "      <th>city</th>\n",
       "      <th>county</th>\n",
       "      <th>neighborhood</th>\n",
       "      <th>zip_code</th>\n",
       "    </tr>\n",
       "    <tr>\n",
       "      <th>date_seen</th>\n",
       "      <th></th>\n",
       "      <th></th>\n",
       "      <th></th>\n",
       "      <th></th>\n",
       "      <th></th>\n",
       "      <th></th>\n",
       "      <th></th>\n",
       "      <th></th>\n",
       "      <th></th>\n",
       "      <th></th>\n",
       "      <th></th>\n",
       "      <th></th>\n",
       "      <th></th>\n",
       "      <th></th>\n",
       "      <th></th>\n",
       "      <th></th>\n",
       "      <th></th>\n",
       "      <th></th>\n",
       "    </tr>\n",
       "  </thead>\n",
       "  <tbody>\n",
       "    <tr>\n",
       "      <th>1965-01-01 17:00:00</th>\n",
       "      <td>2010-11-21</td>\n",
       "      <td>light</td>\n",
       "      <td>0.333333</td>\n",
       "      <td>Light over Mokena Illinios</td>\n",
       "      <td>Mokena</td>\n",
       "      <td>Illinois</td>\n",
       "      <td>IL</td>\n",
       "      <td>East North Central</td>\n",
       "      <td>Midwest</td>\n",
       "      <td>41.526111</td>\n",
       "      <td>-87.889167</td>\n",
       "      <td>41.5261111,-87.8891667</td>\n",
       "      <td>NaN</td>\n",
       "      <td>NaN</td>\n",
       "      <td>Mokena</td>\n",
       "      <td>NaN</td>\n",
       "      <td>NaN</td>\n",
       "      <td>60448</td>\n",
       "    </tr>\n",
       "    <tr>\n",
       "      <th>1965-01-01 20:00:00</th>\n",
       "      <td>2007-02-01</td>\n",
       "      <td>fireball</td>\n",
       "      <td>0.333333</td>\n",
       "      <td>winter nite wonder</td>\n",
       "      <td>St. Ansgar</td>\n",
       "      <td>Iowa</td>\n",
       "      <td>IA</td>\n",
       "      <td>West North Central</td>\n",
       "      <td>Midwest</td>\n",
       "      <td>43.378333</td>\n",
       "      <td>-92.918611</td>\n",
       "      <td>43.3783333,-92.9186111</td>\n",
       "      <td>NaN</td>\n",
       "      <td>NaN</td>\n",
       "      <td>St Ansgar</td>\n",
       "      <td>NaN</td>\n",
       "      <td>NaN</td>\n",
       "      <td>50472</td>\n",
       "    </tr>\n",
       "    <tr>\n",
       "      <th>1965-01-01 20:00:00</th>\n",
       "      <td>1998-06-02</td>\n",
       "      <td>light</td>\n",
       "      <td>60.000000</td>\n",
       "      <td>At a drive-in during the summer my brother and...</td>\n",
       "      <td>Conway</td>\n",
       "      <td>Arkansas</td>\n",
       "      <td>AR</td>\n",
       "      <td>West South Central</td>\n",
       "      <td>South</td>\n",
       "      <td>35.088611</td>\n",
       "      <td>-92.441944</td>\n",
       "      <td>35.0886111,-92.4419444</td>\n",
       "      <td>NaN</td>\n",
       "      <td>NaN</td>\n",
       "      <td>Conway</td>\n",
       "      <td>NaN</td>\n",
       "      <td>NaN</td>\n",
       "      <td>72034</td>\n",
       "    </tr>\n",
       "    <tr>\n",
       "      <th>1965-02-02 06:00:00</th>\n",
       "      <td>2003-07-16</td>\n",
       "      <td>sphere</td>\n",
       "      <td>120.000000</td>\n",
       "      <td>Huge&amp;#44 bright orb in sky over Seattle in 1960s.</td>\n",
       "      <td>Seattle/Belfair</td>\n",
       "      <td>Washington</td>\n",
       "      <td>WA</td>\n",
       "      <td>Pacific</td>\n",
       "      <td>West</td>\n",
       "      <td>47.619239</td>\n",
       "      <td>-122.207923</td>\n",
       "      <td>47.619239,-122.207923</td>\n",
       "      <td>NaN</td>\n",
       "      <td>NaN</td>\n",
       "      <td>Bellevue</td>\n",
       "      <td>NaN</td>\n",
       "      <td>NaN</td>\n",
       "      <td>98004</td>\n",
       "    </tr>\n",
       "    <tr>\n",
       "      <th>1965-02-15 17:00:00</th>\n",
       "      <td>2003-08-04</td>\n",
       "      <td>oval</td>\n",
       "      <td>65.000000</td>\n",
       "      <td>Object hovered over electric transformer for a...</td>\n",
       "      <td>Chicago</td>\n",
       "      <td>Illinois</td>\n",
       "      <td>IL</td>\n",
       "      <td>East North Central</td>\n",
       "      <td>Midwest</td>\n",
       "      <td>41.850000</td>\n",
       "      <td>-87.650000</td>\n",
       "      <td>41.85,-87.65</td>\n",
       "      <td>NaN</td>\n",
       "      <td>NaN</td>\n",
       "      <td>Chicago</td>\n",
       "      <td>NaN</td>\n",
       "      <td>NaN</td>\n",
       "      <td>60608</td>\n",
       "    </tr>\n",
       "  </tbody>\n",
       "</table>\n",
       "</div>"
      ],
      "text/plain": [
       "                    date_posted     shape  duration_min  \\\n",
       "date_seen                                                 \n",
       "1965-01-01 17:00:00  2010-11-21     light      0.333333   \n",
       "1965-01-01 20:00:00  2007-02-01  fireball      0.333333   \n",
       "1965-01-01 20:00:00  1998-06-02     light     60.000000   \n",
       "1965-02-02 06:00:00  2003-07-16    sphere    120.000000   \n",
       "1965-02-15 17:00:00  2003-08-04      oval     65.000000   \n",
       "\n",
       "                                                              comments  \\\n",
       "date_seen                                                                \n",
       "1965-01-01 17:00:00                         Light over Mokena Illinios   \n",
       "1965-01-01 20:00:00                                 winter nite wonder   \n",
       "1965-01-01 20:00:00  At a drive-in during the summer my brother and...   \n",
       "1965-02-02 06:00:00  Huge&#44 bright orb in sky over Seattle in 1960s.   \n",
       "1965-02-15 17:00:00  Object hovered over electric transformer for a...   \n",
       "\n",
       "                            city_raw       state state_abbr  \\\n",
       "date_seen                                                     \n",
       "1965-01-01 17:00:00           Mokena    Illinois         IL   \n",
       "1965-01-01 20:00:00       St. Ansgar        Iowa         IA   \n",
       "1965-01-01 20:00:00           Conway    Arkansas         AR   \n",
       "1965-02-02 06:00:00  Seattle/Belfair  Washington         WA   \n",
       "1965-02-15 17:00:00          Chicago    Illinois         IL   \n",
       "\n",
       "                          division_name region_name   latitude   longitude  \\\n",
       "date_seen                                                                    \n",
       "1965-01-01 17:00:00  East North Central     Midwest  41.526111  -87.889167   \n",
       "1965-01-01 20:00:00  West North Central     Midwest  43.378333  -92.918611   \n",
       "1965-01-01 20:00:00  West South Central       South  35.088611  -92.441944   \n",
       "1965-02-02 06:00:00             Pacific        West  47.619239 -122.207923   \n",
       "1965-02-15 17:00:00  East North Central     Midwest  41.850000  -87.650000   \n",
       "\n",
       "                                latlong_key   0 address       city county  \\\n",
       "date_seen                                                                   \n",
       "1965-01-01 17:00:00  41.5261111,-87.8891667 NaN     NaN     Mokena    NaN   \n",
       "1965-01-01 20:00:00  43.3783333,-92.9186111 NaN     NaN  St Ansgar    NaN   \n",
       "1965-01-01 20:00:00  35.0886111,-92.4419444 NaN     NaN     Conway    NaN   \n",
       "1965-02-02 06:00:00   47.619239,-122.207923 NaN     NaN   Bellevue    NaN   \n",
       "1965-02-15 17:00:00            41.85,-87.65 NaN     NaN    Chicago    NaN   \n",
       "\n",
       "                    neighborhood zip_code  \n",
       "date_seen                                  \n",
       "1965-01-01 17:00:00          NaN    60448  \n",
       "1965-01-01 20:00:00          NaN    50472  \n",
       "1965-01-01 20:00:00          NaN    72034  \n",
       "1965-02-02 06:00:00          NaN    98004  \n",
       "1965-02-15 17:00:00          NaN    60608  "
      ]
     },
     "execution_count": 12,
     "metadata": {},
     "output_type": "execute_result"
    }
   ],
   "source": [
    "ufos.head()"
   ]
  },
  {
   "cell_type": "code",
   "execution_count": 23,
   "metadata": {
    "collapsed": false
   },
   "outputs": [],
   "source": [
    "del ufos[0]"
   ]
  },
  {
   "cell_type": "code",
   "execution_count": 24,
   "metadata": {
    "collapsed": false
   },
   "outputs": [],
   "source": [
    "ufos['city'] = ufos['city'].str.encode('utf-8')\n",
    "ufos['address'] = ufos['address'].str.encode('utf-8')\n",
    "ufos['county'] = ufos['county'].str.encode('utf-8')\n",
    "ufos['neighborhood'] = ufos['neighborhood'].str.encode('utf-8')"
   ]
  },
  {
   "cell_type": "code",
   "execution_count": 27,
   "metadata": {
    "collapsed": false
   },
   "outputs": [],
   "source": [
    "DS = pd.DataFrame(L)\n",
    "DS = DS.transpose()"
   ]
  },
  {
   "cell_type": "code",
   "execution_count": 25,
   "metadata": {
    "collapsed": false
   },
   "outputs": [],
   "source": [
    "ufos.to_csv('updateufos.csv')"
   ]
  },
  {
   "cell_type": "markdown",
   "metadata": {},
   "source": [
    "# Combining UFO data to get county from Zip Code Database"
   ]
  },
  {
   "cell_type": "code",
   "execution_count": 59,
   "metadata": {
    "collapsed": true
   },
   "outputs": [],
   "source": [
    "ufos = pd.read_csv('updateufos.csv', parse_dates=True, index_col='date_seen')\n",
    "\n",
    "del ufos['latlong_key']\n",
    "del ufos['county']\n",
    "\n",
    "zips = pd.read_csv('zip_code_database.csv', usecols=[0,3,7], dtype=object,\n",
    "                       header=0, names=['zip_code', 'city', 'county'])"
   ]
  },
  {
   "cell_type": "code",
   "execution_count": 60,
   "metadata": {
    "collapsed": false
   },
   "outputs": [],
   "source": [
    "# Here we can merge some specific columns over from the state_table to the ufos DF\n",
    "ufos2 = ufos.reset_index().merge(zips, how='left', left_on='zip_code', right_on='zip_code').set_index('date_seen')\n",
    "ufos2 = ufos2.sort_index()"
   ]
  },
  {
   "cell_type": "code",
   "execution_count": 61,
   "metadata": {
    "collapsed": false
   },
   "outputs": [
    {
     "data": {
      "text/html": [
       "<div>\n",
       "<table border=\"1\" class=\"dataframe\">\n",
       "  <thead>\n",
       "    <tr style=\"text-align: right;\">\n",
       "      <th></th>\n",
       "      <th>date_posted</th>\n",
       "      <th>shape</th>\n",
       "      <th>duration_min</th>\n",
       "      <th>comments</th>\n",
       "      <th>city_raw</th>\n",
       "      <th>state</th>\n",
       "      <th>state_abbr</th>\n",
       "      <th>division_name</th>\n",
       "      <th>region_name</th>\n",
       "      <th>latitude</th>\n",
       "      <th>longitude</th>\n",
       "      <th>address</th>\n",
       "      <th>city_x</th>\n",
       "      <th>neighborhood</th>\n",
       "      <th>zip_code</th>\n",
       "      <th>city_y</th>\n",
       "      <th>county</th>\n",
       "    </tr>\n",
       "    <tr>\n",
       "      <th>date_seen</th>\n",
       "      <th></th>\n",
       "      <th></th>\n",
       "      <th></th>\n",
       "      <th></th>\n",
       "      <th></th>\n",
       "      <th></th>\n",
       "      <th></th>\n",
       "      <th></th>\n",
       "      <th></th>\n",
       "      <th></th>\n",
       "      <th></th>\n",
       "      <th></th>\n",
       "      <th></th>\n",
       "      <th></th>\n",
       "      <th></th>\n",
       "      <th></th>\n",
       "      <th></th>\n",
       "    </tr>\n",
       "  </thead>\n",
       "  <tbody>\n",
       "    <tr>\n",
       "      <th>1965-01-01 17:00:00</th>\n",
       "      <td>2010-11-21</td>\n",
       "      <td>light</td>\n",
       "      <td>0.333333</td>\n",
       "      <td>Light over Mokena Illinios</td>\n",
       "      <td>Mokena</td>\n",
       "      <td>Illinois</td>\n",
       "      <td>IL</td>\n",
       "      <td>East North Central</td>\n",
       "      <td>Midwest</td>\n",
       "      <td>41.526111</td>\n",
       "      <td>-87.889167</td>\n",
       "      <td>NaN</td>\n",
       "      <td>Mokena</td>\n",
       "      <td>NaN</td>\n",
       "      <td>60448</td>\n",
       "      <td>Mokena</td>\n",
       "      <td>Will County</td>\n",
       "    </tr>\n",
       "    <tr>\n",
       "      <th>1965-01-01 20:00:00</th>\n",
       "      <td>2007-02-01</td>\n",
       "      <td>fireball</td>\n",
       "      <td>0.333333</td>\n",
       "      <td>winter nite wonder</td>\n",
       "      <td>St. Ansgar</td>\n",
       "      <td>Iowa</td>\n",
       "      <td>IA</td>\n",
       "      <td>West North Central</td>\n",
       "      <td>Midwest</td>\n",
       "      <td>43.378333</td>\n",
       "      <td>-92.918611</td>\n",
       "      <td>NaN</td>\n",
       "      <td>St Ansgar</td>\n",
       "      <td>NaN</td>\n",
       "      <td>50472</td>\n",
       "      <td>Saint Ansgar</td>\n",
       "      <td>Mitchell County</td>\n",
       "    </tr>\n",
       "    <tr>\n",
       "      <th>1965-01-01 20:00:00</th>\n",
       "      <td>1998-06-02</td>\n",
       "      <td>light</td>\n",
       "      <td>60.000000</td>\n",
       "      <td>At a drive-in during the summer my brother and...</td>\n",
       "      <td>Conway</td>\n",
       "      <td>Arkansas</td>\n",
       "      <td>AR</td>\n",
       "      <td>West South Central</td>\n",
       "      <td>South</td>\n",
       "      <td>35.088611</td>\n",
       "      <td>-92.441944</td>\n",
       "      <td>NaN</td>\n",
       "      <td>Conway</td>\n",
       "      <td>NaN</td>\n",
       "      <td>72034</td>\n",
       "      <td>Conway</td>\n",
       "      <td>Faulkner County</td>\n",
       "    </tr>\n",
       "    <tr>\n",
       "      <th>1965-02-02 06:00:00</th>\n",
       "      <td>2003-07-16</td>\n",
       "      <td>sphere</td>\n",
       "      <td>120.000000</td>\n",
       "      <td>Huge&amp;#44 bright orb in sky over Seattle in 1960s.</td>\n",
       "      <td>Seattle/Belfair</td>\n",
       "      <td>Washington</td>\n",
       "      <td>WA</td>\n",
       "      <td>Pacific</td>\n",
       "      <td>West</td>\n",
       "      <td>47.619239</td>\n",
       "      <td>-122.207923</td>\n",
       "      <td>NaN</td>\n",
       "      <td>Bellevue</td>\n",
       "      <td>NaN</td>\n",
       "      <td>98004</td>\n",
       "      <td>Bellevue</td>\n",
       "      <td>King County</td>\n",
       "    </tr>\n",
       "    <tr>\n",
       "      <th>1965-02-15 17:00:00</th>\n",
       "      <td>2003-08-04</td>\n",
       "      <td>oval</td>\n",
       "      <td>65.000000</td>\n",
       "      <td>Object hovered over electric transformer for a...</td>\n",
       "      <td>Chicago</td>\n",
       "      <td>Illinois</td>\n",
       "      <td>IL</td>\n",
       "      <td>East North Central</td>\n",
       "      <td>Midwest</td>\n",
       "      <td>41.850000</td>\n",
       "      <td>-87.650000</td>\n",
       "      <td>NaN</td>\n",
       "      <td>Chicago</td>\n",
       "      <td>NaN</td>\n",
       "      <td>60608</td>\n",
       "      <td>Chicago</td>\n",
       "      <td>Cook County</td>\n",
       "    </tr>\n",
       "  </tbody>\n",
       "</table>\n",
       "</div>"
      ],
      "text/plain": [
       "                    date_posted     shape  duration_min  \\\n",
       "date_seen                                                 \n",
       "1965-01-01 17:00:00  2010-11-21     light      0.333333   \n",
       "1965-01-01 20:00:00  2007-02-01  fireball      0.333333   \n",
       "1965-01-01 20:00:00  1998-06-02     light     60.000000   \n",
       "1965-02-02 06:00:00  2003-07-16    sphere    120.000000   \n",
       "1965-02-15 17:00:00  2003-08-04      oval     65.000000   \n",
       "\n",
       "                                                              comments  \\\n",
       "date_seen                                                                \n",
       "1965-01-01 17:00:00                         Light over Mokena Illinios   \n",
       "1965-01-01 20:00:00                                 winter nite wonder   \n",
       "1965-01-01 20:00:00  At a drive-in during the summer my brother and...   \n",
       "1965-02-02 06:00:00  Huge&#44 bright orb in sky over Seattle in 1960s.   \n",
       "1965-02-15 17:00:00  Object hovered over electric transformer for a...   \n",
       "\n",
       "                            city_raw       state state_abbr  \\\n",
       "date_seen                                                     \n",
       "1965-01-01 17:00:00           Mokena    Illinois         IL   \n",
       "1965-01-01 20:00:00       St. Ansgar        Iowa         IA   \n",
       "1965-01-01 20:00:00           Conway    Arkansas         AR   \n",
       "1965-02-02 06:00:00  Seattle/Belfair  Washington         WA   \n",
       "1965-02-15 17:00:00          Chicago    Illinois         IL   \n",
       "\n",
       "                          division_name region_name   latitude   longitude  \\\n",
       "date_seen                                                                    \n",
       "1965-01-01 17:00:00  East North Central     Midwest  41.526111  -87.889167   \n",
       "1965-01-01 20:00:00  West North Central     Midwest  43.378333  -92.918611   \n",
       "1965-01-01 20:00:00  West South Central       South  35.088611  -92.441944   \n",
       "1965-02-02 06:00:00             Pacific        West  47.619239 -122.207923   \n",
       "1965-02-15 17:00:00  East North Central     Midwest  41.850000  -87.650000   \n",
       "\n",
       "                    address     city_x neighborhood zip_code        city_y  \\\n",
       "date_seen                                                                    \n",
       "1965-01-01 17:00:00     NaN     Mokena          NaN    60448        Mokena   \n",
       "1965-01-01 20:00:00     NaN  St Ansgar          NaN    50472  Saint Ansgar   \n",
       "1965-01-01 20:00:00     NaN     Conway          NaN    72034        Conway   \n",
       "1965-02-02 06:00:00     NaN   Bellevue          NaN    98004      Bellevue   \n",
       "1965-02-15 17:00:00     NaN    Chicago          NaN    60608       Chicago   \n",
       "\n",
       "                              county  \n",
       "date_seen                             \n",
       "1965-01-01 17:00:00      Will County  \n",
       "1965-01-01 20:00:00  Mitchell County  \n",
       "1965-01-01 20:00:00  Faulkner County  \n",
       "1965-02-02 06:00:00      King County  \n",
       "1965-02-15 17:00:00      Cook County  "
      ]
     },
     "execution_count": 61,
     "metadata": {},
     "output_type": "execute_result"
    }
   ],
   "source": [
    "ufos2.head()"
   ]
  },
  {
   "cell_type": "code",
   "execution_count": 62,
   "metadata": {
    "collapsed": false
   },
   "outputs": [],
   "source": [
    "ufos2.to_csv('ufos2.csv')"
   ]
  },
  {
   "cell_type": "code",
   "execution_count": 96,
   "metadata": {
    "collapsed": true
   },
   "outputs": [],
   "source": [
    "import numpy as np"
   ]
  },
  {
   "cell_type": "code",
   "execution_count": 100,
   "metadata": {
    "collapsed": false
   },
   "outputs": [],
   "source": [
    "ufos2['city'] = np.where((ufos2.city_y.isnull() & ufos2.city_x.notnull()), ufos2.city_x,\n",
    "                         np.where((ufos2.city_y.isnull() & ufos2.city_x.isnull()), ufos2.city_raw, ufos2.city_y))\n"
   ]
  },
  {
   "cell_type": "code",
   "execution_count": 103,
   "metadata": {
    "collapsed": false
   },
   "outputs": [],
   "source": [
    "reorder_cols = ['date_posted','shape','duration_min','comments', 'city_raw', 'state', \n",
    "                'state_abbr','division_name','region_name', 'latitude', 'longitude', 'city',\n",
    "                'county', 'zip_code', ]\n",
    "\n",
    "ufos = ufos2[reorder_cols]\n",
    "ufos = ufos.sort_index()"
   ]
  },
  {
   "cell_type": "code",
   "execution_count": 104,
   "metadata": {
    "collapsed": false
   },
   "outputs": [
    {
     "data": {
      "text/html": [
       "<div>\n",
       "<table border=\"1\" class=\"dataframe\">\n",
       "  <thead>\n",
       "    <tr style=\"text-align: right;\">\n",
       "      <th></th>\n",
       "      <th>date_posted</th>\n",
       "      <th>shape</th>\n",
       "      <th>duration_min</th>\n",
       "      <th>comments</th>\n",
       "      <th>city_raw</th>\n",
       "      <th>state</th>\n",
       "      <th>state_abbr</th>\n",
       "      <th>division_name</th>\n",
       "      <th>region_name</th>\n",
       "      <th>latitude</th>\n",
       "      <th>longitude</th>\n",
       "      <th>city</th>\n",
       "      <th>county</th>\n",
       "      <th>zip_code</th>\n",
       "    </tr>\n",
       "    <tr>\n",
       "      <th>date_seen</th>\n",
       "      <th></th>\n",
       "      <th></th>\n",
       "      <th></th>\n",
       "      <th></th>\n",
       "      <th></th>\n",
       "      <th></th>\n",
       "      <th></th>\n",
       "      <th></th>\n",
       "      <th></th>\n",
       "      <th></th>\n",
       "      <th></th>\n",
       "      <th></th>\n",
       "      <th></th>\n",
       "      <th></th>\n",
       "    </tr>\n",
       "  </thead>\n",
       "  <tbody>\n",
       "    <tr>\n",
       "      <th>1965-01-01 17:00:00</th>\n",
       "      <td>2010-11-21</td>\n",
       "      <td>light</td>\n",
       "      <td>0.333333</td>\n",
       "      <td>Light over Mokena Illinios</td>\n",
       "      <td>Mokena</td>\n",
       "      <td>Illinois</td>\n",
       "      <td>IL</td>\n",
       "      <td>East North Central</td>\n",
       "      <td>Midwest</td>\n",
       "      <td>41.526111</td>\n",
       "      <td>-87.889167</td>\n",
       "      <td>Mokena</td>\n",
       "      <td>Will County</td>\n",
       "      <td>60448</td>\n",
       "    </tr>\n",
       "    <tr>\n",
       "      <th>1965-01-01 20:00:00</th>\n",
       "      <td>2007-02-01</td>\n",
       "      <td>fireball</td>\n",
       "      <td>0.333333</td>\n",
       "      <td>winter nite wonder</td>\n",
       "      <td>St. Ansgar</td>\n",
       "      <td>Iowa</td>\n",
       "      <td>IA</td>\n",
       "      <td>West North Central</td>\n",
       "      <td>Midwest</td>\n",
       "      <td>43.378333</td>\n",
       "      <td>-92.918611</td>\n",
       "      <td>Saint Ansgar</td>\n",
       "      <td>Mitchell County</td>\n",
       "      <td>50472</td>\n",
       "    </tr>\n",
       "    <tr>\n",
       "      <th>1965-01-01 20:00:00</th>\n",
       "      <td>1998-06-02</td>\n",
       "      <td>light</td>\n",
       "      <td>60.000000</td>\n",
       "      <td>At a drive-in during the summer my brother and...</td>\n",
       "      <td>Conway</td>\n",
       "      <td>Arkansas</td>\n",
       "      <td>AR</td>\n",
       "      <td>West South Central</td>\n",
       "      <td>South</td>\n",
       "      <td>35.088611</td>\n",
       "      <td>-92.441944</td>\n",
       "      <td>Conway</td>\n",
       "      <td>Faulkner County</td>\n",
       "      <td>72034</td>\n",
       "    </tr>\n",
       "    <tr>\n",
       "      <th>1965-02-02 06:00:00</th>\n",
       "      <td>2003-07-16</td>\n",
       "      <td>sphere</td>\n",
       "      <td>120.000000</td>\n",
       "      <td>Huge&amp;#44 bright orb in sky over Seattle in 1960s.</td>\n",
       "      <td>Seattle/Belfair</td>\n",
       "      <td>Washington</td>\n",
       "      <td>WA</td>\n",
       "      <td>Pacific</td>\n",
       "      <td>West</td>\n",
       "      <td>47.619239</td>\n",
       "      <td>-122.207923</td>\n",
       "      <td>Bellevue</td>\n",
       "      <td>King County</td>\n",
       "      <td>98004</td>\n",
       "    </tr>\n",
       "    <tr>\n",
       "      <th>1965-02-15 17:00:00</th>\n",
       "      <td>2003-08-04</td>\n",
       "      <td>oval</td>\n",
       "      <td>65.000000</td>\n",
       "      <td>Object hovered over electric transformer for a...</td>\n",
       "      <td>Chicago</td>\n",
       "      <td>Illinois</td>\n",
       "      <td>IL</td>\n",
       "      <td>East North Central</td>\n",
       "      <td>Midwest</td>\n",
       "      <td>41.850000</td>\n",
       "      <td>-87.650000</td>\n",
       "      <td>Chicago</td>\n",
       "      <td>Cook County</td>\n",
       "      <td>60608</td>\n",
       "    </tr>\n",
       "  </tbody>\n",
       "</table>\n",
       "</div>"
      ],
      "text/plain": [
       "                    date_posted     shape  duration_min  \\\n",
       "date_seen                                                 \n",
       "1965-01-01 17:00:00  2010-11-21     light      0.333333   \n",
       "1965-01-01 20:00:00  2007-02-01  fireball      0.333333   \n",
       "1965-01-01 20:00:00  1998-06-02     light     60.000000   \n",
       "1965-02-02 06:00:00  2003-07-16    sphere    120.000000   \n",
       "1965-02-15 17:00:00  2003-08-04      oval     65.000000   \n",
       "\n",
       "                                                              comments  \\\n",
       "date_seen                                                                \n",
       "1965-01-01 17:00:00                         Light over Mokena Illinios   \n",
       "1965-01-01 20:00:00                                 winter nite wonder   \n",
       "1965-01-01 20:00:00  At a drive-in during the summer my brother and...   \n",
       "1965-02-02 06:00:00  Huge&#44 bright orb in sky over Seattle in 1960s.   \n",
       "1965-02-15 17:00:00  Object hovered over electric transformer for a...   \n",
       "\n",
       "                            city_raw       state state_abbr  \\\n",
       "date_seen                                                     \n",
       "1965-01-01 17:00:00           Mokena    Illinois         IL   \n",
       "1965-01-01 20:00:00       St. Ansgar        Iowa         IA   \n",
       "1965-01-01 20:00:00           Conway    Arkansas         AR   \n",
       "1965-02-02 06:00:00  Seattle/Belfair  Washington         WA   \n",
       "1965-02-15 17:00:00          Chicago    Illinois         IL   \n",
       "\n",
       "                          division_name region_name   latitude   longitude  \\\n",
       "date_seen                                                                    \n",
       "1965-01-01 17:00:00  East North Central     Midwest  41.526111  -87.889167   \n",
       "1965-01-01 20:00:00  West North Central     Midwest  43.378333  -92.918611   \n",
       "1965-01-01 20:00:00  West South Central       South  35.088611  -92.441944   \n",
       "1965-02-02 06:00:00             Pacific        West  47.619239 -122.207923   \n",
       "1965-02-15 17:00:00  East North Central     Midwest  41.850000  -87.650000   \n",
       "\n",
       "                             city           county zip_code  \n",
       "date_seen                                                    \n",
       "1965-01-01 17:00:00        Mokena      Will County    60448  \n",
       "1965-01-01 20:00:00  Saint Ansgar  Mitchell County    50472  \n",
       "1965-01-01 20:00:00        Conway  Faulkner County    72034  \n",
       "1965-02-02 06:00:00      Bellevue      King County    98004  \n",
       "1965-02-15 17:00:00       Chicago      Cook County    60608  "
      ]
     },
     "execution_count": 104,
     "metadata": {},
     "output_type": "execute_result"
    }
   ],
   "source": [
    "ufos.head()"
   ]
  },
  {
   "cell_type": "code",
   "execution_count": 105,
   "metadata": {
    "collapsed": false
   },
   "outputs": [],
   "source": [
    "ufos.to_csv('ufos3.csv')"
   ]
  },
  {
   "cell_type": "markdown",
   "metadata": {},
   "source": [
    "# Remerging UFOs to Zip Code DB (missing county)"
   ]
  },
  {
   "cell_type": "code",
   "execution_count": 172,
   "metadata": {
    "collapsed": false
   },
   "outputs": [],
   "source": [
    "ufos3 = pd.read_csv('ufos3.csv', parse_dates=True, index_col='date_seen')\n",
    "\n",
    "zips = pd.read_csv('zip_code_database.csv', usecols=[3,6,7], dtype=object,\n",
    "                       header=0, names=['city', 'state_abbr', 'county'])"
   ]
  },
  {
   "cell_type": "code",
   "execution_count": 173,
   "metadata": {
    "collapsed": false
   },
   "outputs": [],
   "source": [
    "ufos4 = ufos3.reset_index().merge(zips, how='left', left_on=['state_abbr', 'city'], right_on=['state_abbr', 'city']).set_index('date_seen')\n",
    "ufos4 = ufos4.sort_index()"
   ]
  },
  {
   "cell_type": "code",
   "execution_count": 174,
   "metadata": {
    "collapsed": false
   },
   "outputs": [],
   "source": [
    "ufos4['county'] = np.where(ufos4.county_x.isnull(), ufos4.county_y, ufos4.county_x)"
   ]
  },
  {
   "cell_type": "code",
   "execution_count": 175,
   "metadata": {
    "collapsed": false
   },
   "outputs": [],
   "source": [
    "del ufos4['county_x']\n",
    "del ufos4['county_y']"
   ]
  },
  {
   "cell_type": "code",
   "execution_count": 176,
   "metadata": {
    "collapsed": false
   },
   "outputs": [],
   "source": [
    "reorder_cols = ['date_posted','shape','duration_min','comments', 'city_raw', 'city',\n",
    "                'county', 'zip_code', 'state', 'state_abbr','division_name','region_name', \n",
    "                'latitude', 'longitude']\n",
    "\n",
    "ufos = ufos4[reorder_cols]\n",
    "ufos = ufos.sort_index()\n",
    "ufos = ufos.drop_duplicates()"
   ]
  },
  {
   "cell_type": "code",
   "execution_count": 178,
   "metadata": {
    "collapsed": true
   },
   "outputs": [],
   "source": [
    "ufos['zip_code'] = np.where(ufos.county.isnull(), None, ufos.zip_code)"
   ]
  },
  {
   "cell_type": "code",
   "execution_count": 179,
   "metadata": {
    "collapsed": false
   },
   "outputs": [],
   "source": [
    "ufos.to_csv('ufos4.csv')"
   ]
  },
  {
   "cell_type": "markdown",
   "metadata": {},
   "source": [
    "# Combining county FIP codes to \"connect diasters data\""
   ]
  },
  {
   "cell_type": "code",
   "execution_count": 184,
   "metadata": {
    "collapsed": false
   },
   "outputs": [
    {
     "data": {
      "text/html": [
       "<div>\n",
       "<table border=\"1\" class=\"dataframe\">\n",
       "  <thead>\n",
       "    <tr style=\"text-align: right;\">\n",
       "      <th></th>\n",
       "      <th>state_abbr</th>\n",
       "      <th>county_fip</th>\n",
       "      <th>county</th>\n",
       "    </tr>\n",
       "  </thead>\n",
       "  <tbody>\n",
       "    <tr>\n",
       "      <th>0</th>\n",
       "      <td>AL</td>\n",
       "      <td>AL-003</td>\n",
       "      <td>Baldwin County</td>\n",
       "    </tr>\n",
       "    <tr>\n",
       "      <th>1</th>\n",
       "      <td>AL</td>\n",
       "      <td>AL-005</td>\n",
       "      <td>Barbour County</td>\n",
       "    </tr>\n",
       "    <tr>\n",
       "      <th>2</th>\n",
       "      <td>AL</td>\n",
       "      <td>AL-007</td>\n",
       "      <td>Bibb County</td>\n",
       "    </tr>\n",
       "    <tr>\n",
       "      <th>3</th>\n",
       "      <td>AL</td>\n",
       "      <td>AL-009</td>\n",
       "      <td>Blount County</td>\n",
       "    </tr>\n",
       "    <tr>\n",
       "      <th>4</th>\n",
       "      <td>AL</td>\n",
       "      <td>AL-011</td>\n",
       "      <td>Bullock County</td>\n",
       "    </tr>\n",
       "  </tbody>\n",
       "</table>\n",
       "</div>"
      ],
      "text/plain": [
       "  state_abbr county_fip          county\n",
       "0         AL     AL-003  Baldwin County\n",
       "1         AL     AL-005  Barbour County\n",
       "2         AL     AL-007     Bibb County\n",
       "3         AL     AL-009   Blount County\n",
       "4         AL     AL-011  Bullock County"
      ]
     },
     "execution_count": 184,
     "metadata": {},
     "output_type": "execute_result"
    }
   ],
   "source": [
    "ufos4 = pd.read_csv('ufos4.csv', parse_dates=True, index_col='date_seen')\n",
    "\n",
    "fips = pd.read_csv('national_county.txt', usecols=[0,2,3], header=0, dtype=object,\n",
    "                   names=['state_abbr', 'county_fip', 'county'])\n",
    "\n",
    "fips['county_fip'] = fips['state_abbr'] + '-' + fips['county_fip']\n",
    "\n",
    "fips.head()"
   ]
  },
  {
   "cell_type": "code",
   "execution_count": 185,
   "metadata": {
    "collapsed": true
   },
   "outputs": [],
   "source": [
    "ufos4 = ufos4.reset_index().merge(fips, how='left', left_on=['state_abbr', 'county'], right_on=['state_abbr', 'county']).set_index('date_seen')\n",
    "ufos4 = ufos4.sort_index()"
   ]
  },
  {
   "cell_type": "code",
   "execution_count": 190,
   "metadata": {
    "collapsed": false
   },
   "outputs": [],
   "source": [
    "reorder_cols = ['date_posted','shape','duration_min','comments', 'city_raw', 'city',\n",
    "                'county', 'county_fip', 'zip_code', 'state', 'state_abbr','division_name','region_name', \n",
    "                'latitude', 'longitude']\n",
    "\n",
    "ufos = ufos4[reorder_cols]\n",
    "ufos = ufos.sort_index()"
   ]
  },
  {
   "cell_type": "code",
   "execution_count": 192,
   "metadata": {
    "collapsed": false
   },
   "outputs": [],
   "source": [
    "ufos.to_csv('ufos_complete.csv')"
   ]
  },
  {
   "cell_type": "markdown",
   "metadata": {},
   "source": [
    "# Different approach to latlongs with geocoder"
   ]
  },
  {
   "cell_type": "code",
   "execution_count": 48,
   "metadata": {
    "collapsed": false
   },
   "outputs": [],
   "source": [
    "# for finding out how far we're in the file\n",
    "\n",
    "LL = {}\n",
    "\n",
    "row_counter = 0\n",
    "\n",
    "# loop through the lat-long list\n",
    "for l in locs_missing[:2]:\n",
    "    \n",
    "    key = ','.join(l)\n",
    "    row_counter += 1\n",
    "    \n",
    "    if key not in LL:\n",
    "        g = geocoder.google(l, method='reverse')\n",
    "        \n",
    "        # stop trying to query\n",
    "        if g.error == 'OVER_QUERY_LIMIT':\n",
    "            raise Exception('Query Limit Exceeded')\n",
    "    \n",
    "        # make sure both city/neighboorhood and postal code are there\n",
    "        if g.city != None and g.postal != None:\n",
    "            # add to the data structure\n",
    "            LL[key] = {'city':g.city, 'zip_code':g.postal, ''}\n",
    "        elif g.neighborhood != None and g.postal != None:\n",
    "            LL[key] = {'city':g.neighborhood, 'zip_code':g.postal}\n",
    "        else:\n",
    "            continue\n",
    "    else:\n",
    "        pass"
   ]
  },
  {
   "cell_type": "code",
   "execution_count": 50,
   "metadata": {
    "collapsed": false
   },
   "outputs": [
    {
     "data": {
      "text/plain": [
       "{'39.415,-76.356111': {'city': u'Joppa', 'zip_code': u'21085'},\n",
       " '39.9866667,-75.4013889': {'city': u'Newtown Square', 'zip_code': u'19073'}}"
      ]
     },
     "execution_count": 50,
     "metadata": {},
     "output_type": "execute_result"
    }
   ],
   "source": [
    "LL"
   ]
  },
  {
   "cell_type": "code",
   "execution_count": 41,
   "metadata": {
    "collapsed": false
   },
   "outputs": [
    {
     "data": {
      "text/plain": [
       "['39.415', '-76.356111']"
      ]
     },
     "execution_count": 41,
     "metadata": {},
     "output_type": "execute_result"
    }
   ],
   "source": [
    "locs_missing[1]"
   ]
  },
  {
   "cell_type": "code",
   "execution_count": 32,
   "metadata": {
    "collapsed": true
   },
   "outputs": [],
   "source": [
    "g = geocoder.google('46.776132,-112.566272', method='reverse')"
   ]
  },
  {
   "cell_type": "code",
   "execution_count": 34,
   "metadata": {
    "collapsed": false,
    "scrolled": true
   },
   "outputs": [
    {
     "data": {
      "text/plain": [
       "{u'results': [{u'address_components': [{u'long_name': u'Continental Divide Trail',\n",
       "     u'short_name': u'Continental Divide Trail',\n",
       "     u'types': [u'route']},\n",
       "    {u'long_name': u'Canyon Creek',\n",
       "     u'short_name': u'Canyon Creek',\n",
       "     u'types': [u'neighborhood', u'political']},\n",
       "    {u'long_name': u'Montana',\n",
       "     u'short_name': u'MT',\n",
       "     u'types': [u'administrative_area_level_1', u'political']},\n",
       "    {u'long_name': u'United States',\n",
       "     u'short_name': u'US',\n",
       "     u'types': [u'country', u'political']},\n",
       "    {u'long_name': u'59633',\n",
       "     u'short_name': u'59633',\n",
       "     u'types': [u'postal_code']}],\n",
       "   u'formatted_address': u'Continental Divide Trail, Canyon Creek, MT 59633, USA',\n",
       "   u'geometry': {u'bounds': {u'northeast': {u'lat': 46.8283983,\n",
       "      u'lng': -112.5111601},\n",
       "     u'southwest': {u'lat': 46.769961, u'lng': -112.5368356}},\n",
       "    u'location': {u'lat': 46.799696, u'lng': -112.5196019},\n",
       "    u'location_type': u'GEOMETRIC_CENTER',\n",
       "    u'viewport': {u'northeast': {u'lat': 46.8283983, u'lng': -112.5111601},\n",
       "     u'southwest': {u'lat': 46.769961, u'lng': -112.5368356}}},\n",
       "   u'place_id': u'ChIJCRBwEJXHXFMRBP3gtlns6Pg',\n",
       "   u'types': [u'route']},\n",
       "  {u'address_components': [{u'long_name': u'59713',\n",
       "     u'short_name': u'59713',\n",
       "     u'types': [u'postal_code']},\n",
       "    {u'long_name': u'Avon',\n",
       "     u'short_name': u'Avon',\n",
       "     u'types': [u'locality', u'political']},\n",
       "    {u'long_name': u'Powell County',\n",
       "     u'short_name': u'Powell County',\n",
       "     u'types': [u'administrative_area_level_2', u'political']},\n",
       "    {u'long_name': u'Montana',\n",
       "     u'short_name': u'MT',\n",
       "     u'types': [u'administrative_area_level_1', u'political']},\n",
       "    {u'long_name': u'United States',\n",
       "     u'short_name': u'US',\n",
       "     u'types': [u'country', u'political']}],\n",
       "   u'formatted_address': u'Avon, MT 59713, USA',\n",
       "   u'geometry': {u'bounds': {u'northeast': {u'lat': 46.7866748,\n",
       "      u'lng': -112.4622151},\n",
       "     u'southwest': {u'lat': 46.4730111, u'lng': -112.671663}},\n",
       "    u'location': {u'lat': 46.675218, u'lng': -112.5414369},\n",
       "    u'location_type': u'APPROXIMATE',\n",
       "    u'viewport': {u'northeast': {u'lat': 46.7866748, u'lng': -112.4622151},\n",
       "     u'southwest': {u'lat': 46.4730111, u'lng': -112.671663}}},\n",
       "   u'place_id': u'ChIJFY59iB6YXFMRZGFDpZNI4xU',\n",
       "   u'types': [u'postal_code']},\n",
       "  {u'address_components': [{u'long_name': u'Powell County',\n",
       "     u'short_name': u'Powell County',\n",
       "     u'types': [u'administrative_area_level_2', u'political']},\n",
       "    {u'long_name': u'Montana',\n",
       "     u'short_name': u'MT',\n",
       "     u'types': [u'administrative_area_level_1', u'political']},\n",
       "    {u'long_name': u'United States',\n",
       "     u'short_name': u'US',\n",
       "     u'types': [u'country', u'political']}],\n",
       "   u'formatted_address': u'Powell County, MT, USA',\n",
       "   u'geometry': {u'bounds': {u'northeast': {u'lat': 47.6002948,\n",
       "      u'lng': -112.293036},\n",
       "     u'southwest': {u'lat': 46.2656289, u'lng': -113.466719}},\n",
       "    u'location': {u'lat': 46.9311447, u'lng': -112.9745473},\n",
       "    u'location_type': u'APPROXIMATE',\n",
       "    u'viewport': {u'northeast': {u'lat': 47.6002948, u'lng': -112.293036},\n",
       "     u'southwest': {u'lat': 46.2656289, u'lng': -113.466719}}},\n",
       "   u'place_id': u'ChIJMR6EsyRRXFMRkLiqMzTAid0',\n",
       "   u'types': [u'administrative_area_level_2', u'political']},\n",
       "  {u'address_components': [{u'long_name': u'Montana',\n",
       "     u'short_name': u'MT',\n",
       "     u'types': [u'administrative_area_level_1',\n",
       "      u'establishment',\n",
       "      u'point_of_interest',\n",
       "      u'political']},\n",
       "    {u'long_name': u'United States',\n",
       "     u'short_name': u'US',\n",
       "     u'types': [u'country', u'political']}],\n",
       "   u'formatted_address': u'Montana, USA',\n",
       "   u'geometry': {u'bounds': {u'northeast': {u'lat': 49.00139,\n",
       "      u'lng': -104.039563},\n",
       "     u'southwest': {u'lat': 44.3582089, u'lng': -116.050003}},\n",
       "    u'location': {u'lat': 46.8796822, u'lng': -110.3625658},\n",
       "    u'location_type': u'APPROXIMATE',\n",
       "    u'viewport': {u'northeast': {u'lat': 49.00139, u'lng': -104.039563},\n",
       "     u'southwest': {u'lat': 44.3582089, u'lng': -116.050003}}},\n",
       "   u'place_id': u'ChIJ04p7LZwrQVMRGGwqz1jWcfU',\n",
       "   u'types': [u'administrative_area_level_1',\n",
       "    u'establishment',\n",
       "    u'point_of_interest',\n",
       "    u'political']},\n",
       "  {u'address_components': [{u'long_name': u'United States',\n",
       "     u'short_name': u'US',\n",
       "     u'types': [u'country', u'political']}],\n",
       "   u'formatted_address': u'United States',\n",
       "   u'geometry': {u'bounds': {u'northeast': {u'lat': 71.5388001,\n",
       "      u'lng': -66.885417},\n",
       "     u'southwest': {u'lat': 18.7763, u'lng': 170.5957}},\n",
       "    u'location': {u'lat': 37.09024, u'lng': -95.712891},\n",
       "    u'location_type': u'APPROXIMATE',\n",
       "    u'viewport': {u'northeast': {u'lat': 49.38, u'lng': -66.94},\n",
       "     u'southwest': {u'lat': 25.82, u'lng': -124.39}}},\n",
       "   u'place_id': u'ChIJCzYy5IS16lQRQrfeQ5K5Oxw',\n",
       "   u'types': [u'country', u'political']}],\n",
       " u'status': u'OK'}"
      ]
     },
     "execution_count": 34,
     "metadata": {},
     "output_type": "execute_result"
    }
   ],
   "source": [
    "g.content"
   ]
  },
  {
   "cell_type": "code",
   "execution_count": 7,
   "metadata": {
    "collapsed": true
   },
   "outputs": [],
   "source": [
    "g2 = geocoder.google('34.4779,-115.201957', method='reverse')"
   ]
  },
  {
   "cell_type": "code",
   "execution_count": 31,
   "metadata": {
    "collapsed": false
   },
   "outputs": [
    {
     "data": {
      "text/plain": [
       "[{u'long_name': u'Unnamed Road',\n",
       "  u'short_name': u'Unnamed Road',\n",
       "  u'types': [u'route']},\n",
       " {u'long_name': u'San Bernardino County',\n",
       "  u'short_name': u'San Bernardino County',\n",
       "  u'types': [u'administrative_area_level_2', u'political']},\n",
       " {u'long_name': u'California',\n",
       "  u'short_name': u'CA',\n",
       "  u'types': [u'administrative_area_level_1', u'political']},\n",
       " {u'long_name': u'United States',\n",
       "  u'short_name': u'US',\n",
       "  u'types': [u'country', u'political']}]"
      ]
     },
     "execution_count": 31,
     "metadata": {},
     "output_type": "execute_result"
    }
   ],
   "source": [
    "g2.content[u'results'][0][u'address_components']"
   ]
  },
  {
   "cell_type": "code",
   "execution_count": 6,
   "metadata": {
    "collapsed": false
   },
   "outputs": [],
   "source": [
    "nn = {'12,-12':{'name':'nick', 'DOB':'March'}, '13,-13': {'name':'Sim', 'DOB':'March', 'sex':'F', 'age':20}}"
   ]
  },
  {
   "cell_type": "code",
   "execution_count": 7,
   "metadata": {
    "collapsed": false
   },
   "outputs": [
    {
     "data": {
      "text/html": [
       "<div>\n",
       "<table border=\"1\" class=\"dataframe\">\n",
       "  <thead>\n",
       "    <tr style=\"text-align: right;\">\n",
       "      <th></th>\n",
       "      <th>DOB</th>\n",
       "      <th>age</th>\n",
       "      <th>name</th>\n",
       "      <th>sex</th>\n",
       "    </tr>\n",
       "  </thead>\n",
       "  <tbody>\n",
       "    <tr>\n",
       "      <th>0</th>\n",
       "      <td>March</td>\n",
       "      <td>20.0</td>\n",
       "      <td>Sim</td>\n",
       "      <td>F</td>\n",
       "    </tr>\n",
       "    <tr>\n",
       "      <th>1</th>\n",
       "      <td>March</td>\n",
       "      <td>NaN</td>\n",
       "      <td>nick</td>\n",
       "      <td>NaN</td>\n",
       "    </tr>\n",
       "  </tbody>\n",
       "</table>\n",
       "</div>"
      ],
      "text/plain": [
       "     DOB   age  name  sex\n",
       "0  March  20.0   Sim    F\n",
       "1  March   NaN  nick  NaN"
      ]
     },
     "execution_count": 7,
     "metadata": {},
     "output_type": "execute_result"
    }
   ],
   "source": [
    "import pandas as pd\n",
    "pd.DataFrame(nn.values())"
   ]
  },
  {
   "cell_type": "code",
   "execution_count": 40,
   "metadata": {
    "collapsed": false
   },
   "outputs": [],
   "source": [
    "n = geocoder.google('60.690545,-147.097055', method='reverse')"
   ]
  },
  {
   "cell_type": "code",
   "execution_count": 57,
   "metadata": {
    "collapsed": false
   },
   "outputs": [
    {
     "data": {
      "text/plain": [
       "u'Valdez-Cordova, AK, USA'"
      ]
     },
     "execution_count": 57,
     "metadata": {},
     "output_type": "execute_result"
    }
   ],
   "source": []
  },
  {
   "cell_type": "markdown",
   "metadata": {},
   "source": [
    "### Resources\n",
    "\n",
    "- https://stackoverflow.com/questions/19913659/pandas-conditional-creation-of-a-series-dataframe-column\n",
    "- https://stackoverflow.com/questions/20375561/joining-pandas-dataframes-by-column-names\n",
    "- https://stackoverflow.com/questions/11976503/how-to-keep-index-when-using-pandas-merge\n",
    "- https://stackoverflow.com/questions/14984119/python-pandas-remove-duplicate-columns\n",
    "- https://stackoverflow.com/questions/13148429/how-to-change-the-order-of-dataframe-columns\n",
    "- https://stackoverflow.com/questions/20868394/changing-a-specific-column-name-in-pandas-dataframe\n",
    "- https://stackoverflow.com/questions/31270635/converting-some-columns-from-pandas-dataframe-to-list-of-lists\n",
    "- https://stackoverflow.com/questions/24216425/adding-a-new-pandas-column-with-mapped-value-from-a-dictionary\n",
    "- https://stackoverflow.com/questions/38231591/splitting-dictionary-list-inside-a-pandas-column-into-separate-columns\n",
    "- https://stackoverflow.com/questions/22504329/pandas-variable-creation-using-multiple-if-else"
   ]
  },
  {
   "cell_type": "code",
   "execution_count": null,
   "metadata": {
    "collapsed": true
   },
   "outputs": [],
   "source": []
  }
 ],
 "metadata": {
  "anaconda-cloud": {},
  "kernelspec": {
   "display_name": "Python 2",
   "language": "python",
   "name": "python2"
  },
  "language_info": {
   "codemirror_mode": {
    "name": "ipython",
    "version": 2
   },
   "file_extension": ".py",
   "mimetype": "text/x-python",
   "name": "python",
   "nbconvert_exporter": "python",
   "pygments_lexer": "ipython2",
   "version": "2.7.13"
  }
 },
 "nbformat": 4,
 "nbformat_minor": 2
}
